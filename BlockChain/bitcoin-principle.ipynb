{
 "cells": [
  {
   "cell_type": "markdown",
   "metadata": {},
   "source": [
    "[【官方双语】想知道比特币（和其他加密货币）的原理吗？\\_哔哩哔哩 (゜ - ゜) つロ 干杯~-bilibili](https://www.bilibili.com/video/av12465079)"
   ]
  },
  {
   "cell_type": "markdown",
   "metadata": {},
   "source": [
    "## 加密货币原理"
   ]
  },
  {
   "cell_type": "markdown",
   "metadata": {},
   "source": [
    "### 主要思想\n",
    "\n",
    "- 电子签名\n",
    "- 公共账本就是货币\n",
    "- 去中心化\n",
    "- 工作量证明\n",
    "- 区块链"
   ]
  },
  {
   "cell_type": "markdown",
   "metadata": {},
   "source": [
    "### 协议\n",
    "\n",
    "- 任何人都可以在账本上新添加行\n",
    "- 每月用真钱结算\n",
    "- 只有有签名的交易是有效的\n",
    "- 不可超支\n",
    "- 当你接收到两条不同的区块链，其中交易信息相冲突时，只保留最长（也就是包含工作量最大）的那条；如果相等，那就继续等。 "
   ]
  },
  {
   "cell_type": "markdown",
   "metadata": {},
   "source": [
    "### 核心\n",
    "\n",
    "\n",
    "- 核心1：签名\n",
    "  - Sign(Message, SecretKey) = Signature\n",
    "  - Verify(Message, Signature, PublicKey) = T/F\n",
    "  - 防止伪造、冒名\n",
    "- 核心2：添加 ID 信息的签名\n",
    "  - 防止复制账本信息\n",
    "- 核心3：余额不足时无法交易\n",
    "  - 防止跑路\n",
    "- 核心4：工作量证明  \n",
    "  - 防止账本混乱：当你接收到两条不同的区块链，其中交易信息相冲突时，只保留最长（也就是包含工作量最大）的那条；如果相等，那就继续等。 \n",
    "  - 账本分割成区块，每个区块包含了一个交易列表，加上工作量证明\n",
    "    - 很容易证明（只要看哈希值开头是否标准），工作量本身对应了交易列表。\n",
    "    - 区块的标头要包含前一个区块的哈希值。\n",
    "    - 很多 Block 组成的 Chain，所以平时不叫账本，叫区块链。\n",
    "  - 所有人都可以建造区块，可以听到交易广播，把它们收集成区块，然后计算找到特殊的数字，使得区块的哈希值开头满足标准。一旦找到这个数，就广播出新发现的区块。奖励新发现的区块者，会给区块奖励（一笔特殊交易，无须支付人/签名；加入货币供应总量），同时有新的货币注入经济。  \n",
    "    - 每个区块就像个小彩票，都在拼命猜数字，直到有哦人找到满足标准的特殊数字。  \n",
    "    - 只想用这个系统来收付款的普通人（非矿工）不需要收听所有交易，只要收听从矿工们广播出来的区块，更新到自己保存的区块链就可以了。不一定要信任刚听到的区块，也需要等好几个。   \n",
    "    - 区块奖励标准（如 x 个零开头）一直在变，让新区块发现的平均时间控制在 10 分钟（比特币的标准）左右。\n",
    "  - 认可工作量最大，就不需要中心。也就是去中心化。\n",
    "    \n",
    " \n",
    "     \n",
    "- 另外的细节：  \n",
    "  - 比特币数量有限，因为新区块奖励按几何级数递减，但可以通过交易费来继续将区块添加到链条：哪个矿工挖到了包含这个交易的区块，钱就归谁，激励矿工把交易加入区块。  \n",
    "  - 每个比特币区块只允许包含大约 2400 笔交易。手续费决定了矿工把哪些交易加入到新区块里。"
   ]
  },
  {
   "cell_type": "markdown",
   "metadata": {},
   "source": [
    "### 疑问\n",
    "\n",
    "- 里面有多少交易时可以开始计算了？"
   ]
  },
  {
   "cell_type": "code",
   "execution_count": null,
   "metadata": {},
   "outputs": [],
   "source": []
  }
 ],
 "metadata": {
  "kernelspec": {
   "display_name": "Python 3",
   "language": "python",
   "name": "python3"
  },
  "language_info": {
   "codemirror_mode": {
    "name": "ipython",
    "version": 3
   },
   "file_extension": ".py",
   "mimetype": "text/x-python",
   "name": "python",
   "nbconvert_exporter": "python",
   "pygments_lexer": "ipython3",
   "version": "3.6.2"
  },
  "toc": {
   "colors": {
    "hover_highlight": "#DAA520",
    "running_highlight": "#FF0000",
    "selected_highlight": "#FFD700"
   },
   "moveMenuLeft": true,
   "nav_menu": {
    "height": "102px",
    "width": "252px"
   },
   "navigate_menu": true,
   "number_sections": true,
   "sideBar": true,
   "threshold": 4,
   "toc_cell": false,
   "toc_section_display": "block",
   "toc_window_display": true
  }
 },
 "nbformat": 4,
 "nbformat_minor": 2
}
