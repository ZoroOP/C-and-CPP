{
 "cells": [
  {
   "cell_type": "code",
   "execution_count": 13,
   "metadata": {},
   "outputs": [
    {
     "name": "stdout",
     "output_type": "stream",
     "text": [
      "hello\n",
      "320"
     ]
    }
   ],
   "source": [
    "#define XMAX 320\n",
    "#define YMAX 320\n",
    "#include <stdio.h>\n",
    "\n",
    "struct point {\n",
    "    int x;\n",
    "    int y;\n",
    "};\n",
    "\n",
    "struct rect {\n",
    "    struct point pt1;\n",
    "    struct point pt2;\n",
    "};\n",
    "\n",
    "struct point makepoint(int x, int y) {\n",
    "    struct point temp;\n",
    "    temp.x = x;\n",
    "    temp.y = y;\n",
    "    return temp;\n",
    "};\n",
    "\n",
    "struct point addpoint(struct point p1, struct point p2) {\n",
    "    p1.x += p2.x;\n",
    "    p1.y += p2.y;\n",
    "    return p1;\n",
    "}\n",
    "\n",
    "int main() {\n",
    "    printf(\"hello\\n\");\n",
    "    struct rect screen;\n",
    "    struct point middle;\n",
    "    struct point middleadd;\n",
    "    struct point makepoint(int, int);\n",
    "    screen.pt1 = makepoint(0, 0);\n",
    "    screen.pt2 = makepoint(XMAX, YMAX);\n",
    "    middle = makepoint((screen.pt1.x + screen.pt2.x)/2, (screen.pt1.y + screen.pt2.y)/2);\n",
    "    middleadd = addpoint(middle, middle);\n",
    "    printf(\"%d\", middleadd.x);\n",
    "}"
   ]
  },
  {
   "cell_type": "code",
   "execution_count": 29,
   "metadata": {},
   "outputs": [
    {
     "name": "stderr",
     "output_type": "stream",
     "text": [
      "[C kernel] Executable exited with code 1"
     ]
    }
   ],
   "source": [
    "typedef struct node {\n",
    "    int \n",
    "}"
   ]
  },
  {
   "cell_type": "code",
   "execution_count": 30,
   "metadata": {},
   "outputs": [
    {
     "name": "stderr",
     "output_type": "stream",
     "text": [
      "/var/folders/y0/t47pd_bj3b9_3j9n_56m52gw0000gn/T/tmp8dcngq8_.c:1:1: error: unknown type name 'poi'\n",
      "poi *p1;\n",
      "^\n",
      "1 error generated.\n",
      "[C kernel] GCC exited with code 1, the executable will not be executed"
     ]
    }
   ],
   "source": [
    "poi *p1;"
   ]
  },
  {
   "cell_type": "code",
   "execution_count": 21,
   "metadata": {},
   "outputs": [
    {
     "name": "stderr",
     "output_type": "stream",
     "text": [
      "/var/folders/y0/t47pd_bj3b9_3j9n_56m52gw0000gn/T/tmpib8s6yfa.c:1:1: error: unknown type name 'p1'\n",
      "p1.x = 2;\n",
      "^\n",
      "/var/folders/y0/t47pd_bj3b9_3j9n_56m52gw0000gn/T/tmpib8s6yfa.c:1:3: error: expected identifier or '('\n",
      "p1.x = 2;\n",
      "  ^\n",
      "/var/folders/y0/t47pd_bj3b9_3j9n_56m52gw0000gn/T/tmpib8s6yfa.c:2:1: error: unknown type name 'p1'\n",
      "p1.y = 3;\n",
      "^\n",
      "/var/folders/y0/t47pd_bj3b9_3j9n_56m52gw0000gn/T/tmpib8s6yfa.c:2:3: error: expected identifier or '('\n",
      "p1.y = 3;\n",
      "  ^\n",
      "4 errors generated.\n",
      "[C kernel] GCC exited with code 1, the executable will not be executed"
     ]
    }
   ],
   "source": [
    "p1.x = 2;\n",
    "p1.y = 3;"
   ]
  },
  {
   "cell_type": "code",
   "execution_count": null,
   "metadata": {},
   "outputs": [],
   "source": []
  }
 ],
 "metadata": {
  "kernelspec": {
   "display_name": "C",
   "language": "c",
   "name": "c"
  },
  "language_info": {
   "file_extension": ".c",
   "mimetype": "text/plain",
   "name": "c"
  },
  "latex_envs": {
   "LaTeX_envs_menu_present": true,
   "autoclose": false,
   "autocomplete": true,
   "bibliofile": "biblio.bib",
   "cite_by": "apalike",
   "current_citInitial": 1,
   "eqLabelWithNumbers": true,
   "eqNumInitial": 1,
   "hotkeys": {
    "equation": "Ctrl-E",
    "itemize": "Ctrl-I"
   },
   "labels_anchors": false,
   "latex_user_defs": false,
   "report_style_numbering": false,
   "user_envs_cfg": false
  },
  "toc": {
   "base_numbering": 1,
   "nav_menu": {},
   "number_sections": true,
   "sideBar": true,
   "skip_h1_title": false,
   "title_cell": "Table of Contents",
   "title_sidebar": "Contents",
   "toc_cell": false,
   "toc_position": {},
   "toc_section_display": true,
   "toc_window_display": false
  }
 },
 "nbformat": 4,
 "nbformat_minor": 2
}
