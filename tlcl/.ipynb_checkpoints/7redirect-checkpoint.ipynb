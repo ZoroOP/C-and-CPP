{
 "cells": [
  {
   "cell_type": "markdown",
   "metadata": {},
   "source": [
    "- cat: 连接文件\n",
    "- sort：排序文本行\n",
    "- uniq：报道或省略重复行\n",
    "- grep：打印匹配行\n",
    "- wc：打印文件中换行符，字，和字节个数\n",
    "- head：输出文件第一部分\n",
    "- tail：输出文件最后一部分"
   ]
  },
  {
   "cell_type": "markdown",
   "metadata": {},
   "source": [
    "- 重新定向标准输出\n",
    "    - `ls -l /usr/bin > ls-output.txt`: 把 ls 命令的运行结果输送到文件 ls-output.txt 中，【由文件代替屏幕！一切皆文件！】  \n",
    "    - `ls -l /bin/usr > ls-output.txt`: 报错，ls 程序不把它的错误信息输送到标准输出，并重写 ls-output.txt 文件，变为 0（空文件），可以用来创建新文件或删除一个文件内容  \n",
    "    - `ls -l /usr/bin >> ls-output.txt`: 把重定向结果【追加】到文件内容后面，而不是从头重写文件；如果文件不存在就会被创建  \n",
    "- 重新定向标准错误\n",
    "    - `ls -l /bin/usr 2> ls-error.txt`: 执行重定向标准错误到文件 ls-error.txt 任务（会记录错误信息）\n",
    "    - 2 是文件描述符\n",
    "- 重定向标准输出和错误到同一个文件\n",
    "    - `ls -l /bin/usr > ls-output.txt 2>&1`: 两个重定向，首先重定向标准输出到文件 ls-output.txt，然后重定向文件描述符 2（标准错误）到文件描述符 1（标准输出）\n",
    "    - 文件描述符 0 1 2 分别表示 标准输入，输出和错误\n",
    "    - 标准错误的重定向必须总是出现在标准输出重定向之后\n",
    "    - `2>&1 > ls-output.txt`：标准错误定向到屏幕\n",
    "    - 更好的方法：\n",
    "        - **`ls -l /bin/usr &> ls-output.txt`**\n",
    "        - &> 重定向标准输出和错误到文件\n",
    "- 处理不需要的输出\n",
    "    - 重定向输出结果到 “/dev/null” 的文件，位存储桶，接收输入，并且对输入不做任何处理\n",
    "    - `ls -l /bin/usr 2> /dev/null`\n",
    "- 重定向标准输入"
   ]
  },
  {
   "cell_type": "markdown",
   "metadata": {},
   "source": [
    "- cat 连接文件\n",
    "    - 读取一个或多个文件，复制它们到标准输出\n",
    "    - `cat movie.mpeg.0* > movie.mpeg`\n",
    "    - `cat` 会从标准输入（默认键盘）读入数据，Ctrl-d 告诉 cat 已经到达文件末尾（EOF），会自动退出；由于文件名参数缺失，cat 复制标准输入到标准输出\n",
    "    - `cat > lazy_dog.txt`：把输入的内容输出到文档中\n",
    "    - `cat < lazy_dog.txt`：标准输入从键盘改到文件\n",
    "    \n",
    "- pipe\n",
    "    - `ls -l /usr/bin | less` 用 less 来一页一页地显示任何命令的输出\n",
    "\n",
    "- 过滤器\n",
    "    - `ls /bin /usr/bin | sort | less` 把两个目录的可执行程序联合在一起再排序浏览结果，返回的是 list。\n",
    "\n",
    "- uniq\n",
    "    - 剔除重名的\n",
    "    - `ls /bin /usr/bin | sort | uniq | less`\n",
    "    - 如果想看到重复的数据列表，需要给 `uniq` 带上 `-d` 选项：`ls /bin /usr/bin | sort | uniq -d | less`\n",
    "\n",
    "- wc\n",
    "    - 打印行，字和字节数\n",
    "    - 返回：行数、单词书、字节数；`-l` 只报道行数\n",
    "    - 统计有序列表中的程序个数：`ls /bin /usr/bin | sort | uniq | wc -l`\n",
    "\n",
    "- grep\n",
    "    - 打印匹配行\n",
    "    - 匹配包含单词 zip 的所有文件：`ls /bin /usr/bin | sort | uniq | grep zip`\n",
    "    - `grep -i` 会忽略大小写\n",
    "    - `grep -v` 打印不匹配的行\n",
    "    \n",
    "- head/tail\n",
    "    - 开头/结尾部分\n",
    "    - 可以用到管道线中：`ls /usr/bin | tail -n 5` \n",
    "    - `tail` 有一个选项允许实时浏览文件，在查看日志时尤其有用：`tail -f /var/log/messages`\n",
    "    - `-f` 让 tail 继续检测这个文件，直到 Ctrl-c\n",
    "    \n",
    "- tee\n",
    "    - 从 Stdin 读取数据，同时输出到 Stdout 和文件\n",
    "    - 从标准输入读入数据，同时复制数据到标准输出和一个或多个文件，允许数据继续随着管道线流动\n",
    "    - `ls /usr/bin | tee ls.txt | grep zip`：只是把 ls 的结果存入 ls.txt，然后继续 grep zip 的\n",
    "    "
   ]
  },
  {
   "cell_type": "code",
   "execution_count": null,
   "metadata": {
    "collapsed": true
   },
   "outputs": [],
   "source": []
  }
 ],
 "metadata": {
  "kernelspec": {
   "display_name": "Python 3",
   "language": "python",
   "name": "python3"
  },
  "language_info": {
   "codemirror_mode": {
    "name": "ipython",
    "version": 3
   },
   "file_extension": ".py",
   "mimetype": "text/x-python",
   "name": "python",
   "nbconvert_exporter": "python",
   "pygments_lexer": "ipython3",
   "version": "3.6.2"
  },
  "latex_envs": {
   "LaTeX_envs_menu_present": true,
   "bibliofile": "biblio.bib",
   "cite_by": "apalike",
   "current_citInitial": 1,
   "eqLabelWithNumbers": true,
   "eqNumInitial": 1,
   "hotkeys": {
    "equation": "Ctrl-E",
    "itemize": "Ctrl-I"
   },
   "labels_anchors": false,
   "latex_user_defs": false,
   "report_style_numbering": false,
   "user_envs_cfg": false
  },
  "toc": {
   "colors": {
    "hover_highlight": "#DAA520",
    "running_highlight": "#FF0000",
    "selected_highlight": "#FFD700"
   },
   "moveMenuLeft": true,
   "nav_menu": {
    "height": "12px",
    "width": "252px"
   },
   "navigate_menu": true,
   "number_sections": true,
   "sideBar": true,
   "threshold": 4,
   "toc_cell": false,
   "toc_section_display": "block",
   "toc_window_display": false
  }
 },
 "nbformat": 4,
 "nbformat_minor": 1
}
