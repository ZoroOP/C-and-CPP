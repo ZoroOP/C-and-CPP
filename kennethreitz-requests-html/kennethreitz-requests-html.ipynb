{
 "cells": [
  {
   "cell_type": "markdown",
   "metadata": {
    "toc": "true"
   },
   "source": [
    "# Table of Contents\n",
    " <p><div class=\"lev1 toc-item\"><a href=\"#简介\" data-toc-modified-id=\"简介-1\"><span class=\"toc-item-num\">1&nbsp;&nbsp;</span>简介 </a></div><div class=\"lev2 toc-item\"><a href=\"#Usage\" data-toc-modified-id=\"Usage-11\"><span class=\"toc-item-num\">1.1&nbsp;&nbsp;</span>Usage</a></div><div class=\"lev2 toc-item\"><a href=\"#JavaScript-Support\" data-toc-modified-id=\"JavaScript-Support-12\"><span class=\"toc-item-num\">1.2&nbsp;&nbsp;</span>JavaScript Support</a></div><div class=\"lev2 toc-item\"><a href=\"#Without-Requests\" data-toc-modified-id=\"Without-Requests-13\"><span class=\"toc-item-num\">1.3&nbsp;&nbsp;</span>Without Requests</a></div><div class=\"lev2 toc-item\"><a href=\"#With-Markdown\" data-toc-modified-id=\"With-Markdown-14\"><span class=\"toc-item-num\">1.4&nbsp;&nbsp;</span>With Markdown</a></div><div class=\"lev1 toc-item\"><a href=\"#源码\" data-toc-modified-id=\"源码-2\"><span class=\"toc-item-num\">2&nbsp;&nbsp;</span>源码 </a></div><div class=\"lev2 toc-item\"><a href=\"#导入模块\" data-toc-modified-id=\"导入模块-21\"><span class=\"toc-item-num\">2.1&nbsp;&nbsp;</span>导入模块 </a></div><div class=\"lev2 toc-item\"><a href=\"#代理，获取-list-首元素\" data-toc-modified-id=\"代理，获取-list-首元素-22\"><span class=\"toc-item-num\">2.2&nbsp;&nbsp;</span>代理，获取 list 首元素 </a></div><div class=\"lev2 toc-item\"><a href=\"#主类-HTMLSession\" data-toc-modified-id=\"主类-HTMLSession-23\"><span class=\"toc-item-num\">2.3&nbsp;&nbsp;</span>主类 HTMLSession</a></div><div class=\"lev2 toc-item\"><a href=\"#HTMLResponse\" data-toc-modified-id=\"HTMLResponse-24\"><span class=\"toc-item-num\">2.4&nbsp;&nbsp;</span>HTMLResponse</a></div><div class=\"lev2 toc-item\"><a href=\"#HTML\" data-toc-modified-id=\"HTML-25\"><span class=\"toc-item-num\">2.5&nbsp;&nbsp;</span>HTML</a></div><div class=\"lev2 toc-item\"><a href=\"#BaseParser\" data-toc-modified-id=\"BaseParser-26\"><span class=\"toc-item-num\">2.6&nbsp;&nbsp;</span>BaseParser</a></div>"
   ]
  },
  {
   "cell_type": "markdown",
   "metadata": {},
   "source": [
    "# 简介\n",
    "\n",
    "- This library intends to make parsing HTML (e.g. scraping the web) as simple and intuitive as possible.\n",
    "- 上线一天 star 1600+，两天 3600+"
   ]
  },
  {
   "cell_type": "markdown",
   "metadata": {},
   "source": [
    "## Usage"
   ]
  },
  {
   "cell_type": "code",
   "execution_count": 1,
   "metadata": {},
   "outputs": [],
   "source": [
    "from requests_html import HTMLSession"
   ]
  },
  {
   "cell_type": "code",
   "execution_count": 2,
   "metadata": {},
   "outputs": [],
   "source": [
    "# 使用 Requests\n",
    "session = HTMLSession()"
   ]
  },
  {
   "cell_type": "code",
   "execution_count": 3,
   "metadata": {},
   "outputs": [],
   "source": [
    "r = session.get('https://python.org/')"
   ]
  },
  {
   "cell_type": "code",
   "execution_count": 4,
   "metadata": {
    "scrolled": false
   },
   "outputs": [
    {
     "data": {
      "text/plain": [
       "['http://feedproxy.google.com/~r/PythonInsider/~3/EJhf_SuyzQo/python-370b2-is-now-available-for.html',\n",
       " 'http://feedproxy.google.com/~r/PythonInsider/~3/l6rlvbmvDv8/python-370b1-is-now-available-for.html']"
      ]
     },
     "execution_count": 4,
     "metadata": {},
     "output_type": "execute_result"
    }
   ],
   "source": [
    "# 按原样获取页面上所有链接的列表（锚点除外）\n",
    "r.html.links\n",
    "list(r.html.absolute_links)[:2]"
   ]
  },
  {
   "cell_type": "code",
   "execution_count": 5,
   "metadata": {},
   "outputs": [],
   "source": [
    "# 使用 CSS 选择器选择一个元素：\n",
    "about = r.html.find('#about', first=True)"
   ]
  },
  {
   "cell_type": "code",
   "execution_count": 6,
   "metadata": {},
   "outputs": [
    {
     "data": {
      "text/plain": [
       "<Element 'li' id='about' class=('tier-1', 'element-1') aria-haspopup='true'>"
      ]
     },
     "execution_count": 6,
     "metadata": {},
     "output_type": "execute_result"
    }
   ],
   "source": [
    "about"
   ]
  },
  {
   "cell_type": "code",
   "execution_count": 7,
   "metadata": {},
   "outputs": [
    {
     "data": {
      "text/plain": [
       "'About\\nApplications\\nQuotes\\nGetting Started\\nHelp\\nPython Brochure'"
      ]
     },
     "execution_count": 7,
     "metadata": {},
     "output_type": "execute_result"
    }
   ],
   "source": [
    "# 元素的文字\n",
    "about.text"
   ]
  },
  {
   "cell_type": "code",
   "execution_count": 8,
   "metadata": {},
   "outputs": [
    {
     "data": {
      "text/plain": [
       "{'aria-haspopup': 'true', 'class': ('tier-1', 'element-1'), 'id': 'about'}"
      ]
     },
     "execution_count": 8,
     "metadata": {},
     "output_type": "execute_result"
    }
   ],
   "source": [
    "# 元素的属性\n",
    "about.attrs"
   ]
  },
  {
   "cell_type": "code",
   "execution_count": 9,
   "metadata": {},
   "outputs": [
    {
     "data": {
      "text/plain": [
       "'<li id=\"about\" class=\"tier-1 element-1  \" aria-haspopup=\"true\">\\n        <a href=\"/about/\" title=\"\" class=\"\">About</a>\\n        \\n            \\n\\n<ul class=\"subnav menu\" role=\"menu\" aria-hidden=\"true\">\\n    \\n        <li class=\"tier-2 element-1\" role=\"treeitem\"><a href=\"/about/apps/\" title=\"\">Applications</a></li>\\n    \\n        <li class=\"tier-2 element-2\" role=\"treeitem\"><a href=\"/about/quotes/\" title=\"\">Quotes</a></li>\\n    \\n        <li class=\"tier-2 element-3\" role=\"treeitem\"><a href=\"/about/gettingstarted/\" title=\"\">Getting Started</a></li>\\n    \\n        <li class=\"tier-2 element-4\" role=\"treeitem\"><a href=\"/about/help/\" title=\"\">Help</a></li>\\n    \\n        <li class=\"tier-2 element-5\" role=\"treeitem\"><a href=\"http://brochure.getpython.info/\" title=\"\">Python Brochure</a></li>\\n    \\n</ul>\\n\\n        \\n    </li>'"
      ]
     },
     "execution_count": 9,
     "metadata": {},
     "output_type": "execute_result"
    }
   ],
   "source": [
    "# 元素的 HTML\n",
    "about.html"
   ]
  },
  {
   "cell_type": "code",
   "execution_count": 10,
   "metadata": {},
   "outputs": [
    {
     "data": {
      "text/plain": [
       "[<Element 'a' href='/about/' title='' class=()>,\n",
       " <Element 'a' href='/about/apps/' title=''>,\n",
       " <Element 'a' href='/about/quotes/' title=''>,\n",
       " <Element 'a' href='/about/gettingstarted/' title=''>,\n",
       " <Element 'a' href='/about/help/' title=''>,\n",
       " <Element 'a' href='http://brochure.getpython.info/' title=''>]"
      ]
     },
     "execution_count": 10,
     "metadata": {},
     "output_type": "execute_result"
    }
   ],
   "source": [
    "# 元素内的 元素\n",
    "about.find('a')"
   ]
  },
  {
   "cell_type": "code",
   "execution_count": 11,
   "metadata": {},
   "outputs": [
    {
     "data": {
      "text/plain": [
       "{'http://brochure.getpython.info/',\n",
       " 'https://www.python.org/about/',\n",
       " 'https://www.python.org/about/apps/',\n",
       " 'https://www.python.org/about/gettingstarted/',\n",
       " 'https://www.python.org/about/help/',\n",
       " 'https://www.python.org/about/quotes/'}"
      ]
     },
     "execution_count": 11,
     "metadata": {},
     "output_type": "execute_result"
    }
   ],
   "source": [
    "# 元素内的链接\n",
    "about.absolute_links"
   ]
  },
  {
   "cell_type": "code",
   "execution_count": 12,
   "metadata": {},
   "outputs": [
    {
     "data": {
      "text/plain": [
       "'programming'"
      ]
     },
     "execution_count": 12,
     "metadata": {},
     "output_type": "execute_result"
    }
   ],
   "source": [
    "# 页面中查找\n",
    "r.html.search('Python is a {} language')[0]"
   ]
  },
  {
   "cell_type": "code",
   "execution_count": null,
   "metadata": {},
   "outputs": [],
   "source": [
    "# 更复杂的 CSS 筛选器例子\n",
    "r = session.get('https://github.com/')\n",
    "sel = 'body > div.application-main > div.jumbotron.jumbotron-codelines > div > div > div.col-md-7.text-center.text-md-left > p'\n",
    "r.html.find(sel, first=True).text"
   ]
  },
  {
   "cell_type": "code",
   "execution_count": 22,
   "metadata": {},
   "outputs": [
    {
     "data": {
      "text/plain": [
       "[<Element 'a' class=('px-2', 'py-4', 'show-on-focus', 'js-skip-to-content') href='#start-of-content' tabindex='1'>]"
      ]
     },
     "execution_count": 22,
     "metadata": {},
     "output_type": "execute_result"
    }
   ],
   "source": [
    "# xpath\n",
    "r.html.xpath('/html/body/div[1]/a')"
   ]
  },
  {
   "cell_type": "markdown",
   "metadata": {},
   "source": [
    "## JavaScript Support"
   ]
  },
  {
   "cell_type": "code",
   "execution_count": 24,
   "metadata": {},
   "outputs": [],
   "source": [
    "r = session.get('http://python-requests.org')"
   ]
  },
  {
   "cell_type": "code",
   "execution_count": null,
   "metadata": {},
   "outputs": [],
   "source": [
    "r.html.render()"
   ]
  },
  {
   "cell_type": "code",
   "execution_count": null,
   "metadata": {},
   "outputs": [],
   "source": [
    "r.html.search('Python 2 will retire in only {months} months!')['months']"
   ]
  },
  {
   "cell_type": "markdown",
   "metadata": {},
   "source": [
    "## Without Requests"
   ]
  },
  {
   "cell_type": "code",
   "execution_count": 29,
   "metadata": {},
   "outputs": [],
   "source": [
    "from requests_html import HTML"
   ]
  },
  {
   "cell_type": "code",
   "execution_count": 30,
   "metadata": {},
   "outputs": [
    {
     "data": {
      "text/plain": [
       "{'https://httpbin.org'}"
      ]
     },
     "execution_count": 30,
     "metadata": {},
     "output_type": "execute_result"
    }
   ],
   "source": [
    "doc = \"\"\"<a href='https://httpbin.org'>\"\"\"\n",
    "html = HTML(html=doc)\n",
    "html.links"
   ]
  },
  {
   "cell_type": "markdown",
   "metadata": {},
   "source": [
    "## With Markdown"
   ]
  },
  {
   "cell_type": "code",
   "execution_count": 38,
   "metadata": {},
   "outputs": [],
   "source": [
    "from html2text import HTML2Text"
   ]
  },
  {
   "cell_type": "code",
   "execution_count": 39,
   "metadata": {},
   "outputs": [
    {
     "name": "stdout",
     "output_type": "stream",
     "text": [
      "* [About](/about/)\n",
      "\n",
      "  * [Applications](/about/apps/)\n",
      "  * [Quotes](/about/quotes/)\n",
      "  * [Getting Started](/about/gettingstarted/)\n",
      "  * [Help](/about/help/)\n",
      "  * [Python Brochure](http://brochure.getpython.info/)\n",
      "\n",
      "\n"
     ]
    }
   ],
   "source": [
    "h = HTML2Text()\n",
    "print(h.handle(about.html))"
   ]
  },
  {
   "cell_type": "markdown",
   "metadata": {},
   "source": [
    "# 源码"
   ]
  },
  {
   "cell_type": "markdown",
   "metadata": {},
   "source": [
    "## 导入模块"
   ]
  },
  {
   "cell_type": "code",
   "execution_count": 1,
   "metadata": {},
   "outputs": [],
   "source": [
    "import sys\n",
    "import asyncio\n",
    "from urllib.parse import urlparse, urlunparse\n",
    "from concurrent.futures._base import TimeoutError\n",
    "from typing import Set, Union, List, MutableMapping, Optional\n",
    "\n",
    "import pyppeteer\n",
    "import requests\n",
    "from pyquery import PyQuery\n",
    "\n",
    "from fake_useragent import UserAgent\n",
    "from lxml import etree\n",
    "from lxml.html import HtmlElement\n",
    "from lxml.html.soupparser import fromstring as soup_parse\n",
    "from parse import search as parse_search\n",
    "from parse import findall, Result\n",
    "from w3lib.encoding import html_to_unicode\n",
    "\n",
    "DEFAULT_ENCODING = 'utf-8'\n",
    "DEFAULT_URL = 'https://example.org/'\n",
    "\n",
    "useragent = None"
   ]
  },
  {
   "cell_type": "code",
   "execution_count": 2,
   "metadata": {},
   "outputs": [],
   "source": [
    "# Typing.\n",
    "_Find = Union[List['Element'], 'Element']\n",
    "_XPath = Union[List[str], List['Element'], str, 'Element']\n",
    "_HTML = Union[str, bytes]\n",
    "_BaseHTML = str\n",
    "_UserAgent = str\n",
    "_DefaultEncoding = str\n",
    "_URL = str\n",
    "_RawHTML = bytes\n",
    "_Encoding = str\n",
    "_LXML = HtmlElement\n",
    "_Text = str\n",
    "_Search = Result\n",
    "_Links = Set[str]\n",
    "_Attrs = MutableMapping"
   ]
  },
  {
   "cell_type": "code",
   "execution_count": 3,
   "metadata": {},
   "outputs": [],
   "source": [
    "# Sanity checking.\n",
    "try:\n",
    "    assert sys.version_info.major == 3\n",
    "    assert sys.version_info.minor > 5\n",
    "except AssertionError:\n",
    "    raise RuntimeError('Requests-HTML requires Python 3.6+!')"
   ]
  },
  {
   "cell_type": "code",
   "execution_count": 4,
   "metadata": {},
   "outputs": [
    {
     "data": {
      "text/plain": [
       "sys.version_info(major=3, minor=6, micro=2, releaselevel='final', serial=0)"
      ]
     },
     "execution_count": 4,
     "metadata": {},
     "output_type": "execute_result"
    }
   ],
   "source": [
    "sys.version_info"
   ]
  },
  {
   "cell_type": "markdown",
   "metadata": {},
   "source": [
    "## 代理，获取 list 首元素"
   ]
  },
  {
   "cell_type": "code",
   "execution_count": 5,
   "metadata": {},
   "outputs": [],
   "source": [
    "def user_agent(style='chrome') -> _UserAgent:\n",
    "    \"\"\"Returns a random user-agent, if not requested one of a specific\n",
    "    style. Defaults to a Chrome-style User-Agent.\n",
    "    \"\"\"\n",
    "    global useragent\n",
    "    if not useragent:\n",
    "        useragent = UserAgent()\n",
    "\n",
    "    return useragent[style] if style else useragent.random"
   ]
  },
  {
   "cell_type": "code",
   "execution_count": 6,
   "metadata": {},
   "outputs": [],
   "source": [
    "def _get_first_or_list(l, first=True):\n",
    "    if first:\n",
    "        try:\n",
    "            return l[0]\n",
    "        except IndexError:\n",
    "            return None\n",
    "    else:\n",
    "        return l"
   ]
  },
  {
   "cell_type": "markdown",
   "metadata": {},
   "source": [
    "## 主类 HTMLSession"
   ]
  },
  {
   "cell_type": "code",
   "execution_count": 23,
   "metadata": {},
   "outputs": [],
   "source": [
    "# 继承了 requests 模块的 Session\n",
    "\"\"\"import requests\n",
    "s = requests.Session()\n",
    "s.get('http://httpbin.org/get')\n",
    "<Response [200]>\"\"\"\n",
    "\n",
    "\n",
    "class HTMLSession(requests.Session):\n",
    "    \"\"\"A consumable session, for cookie persistence and connection pooling,\n",
    "    amongst other things.\n",
    "    \"\"\"\n",
    "\n",
    "    def __init__(self, mock_browser=True, *args, **kwargs):\n",
    "        # 可以写成 super().__init__(*args, **kwargs)\n",
    "        # 调用父类的 init (requests 下 sessions.py)，包括 headers, hooks\n",
    "        super(HTMLSession, self).__init__(*args, **kwargs)\n",
    "        print(\"原 requests header\", self.headers['User-Agent'])\n",
    "\n",
    "        # Mock a web browser's user agent.\n",
    "        if mock_browser:\n",
    "            self.headers['User-Agent'] = user_agent()\n",
    "            print(\"新的 header\", self.headers['User-Agent'])\n",
    "\n",
    "#         self.hooks = {'response': self._handle_response}\n",
    "\n",
    "#     @staticmethod\n",
    "#     def _handle_response(response, **kwargs) -> HTMLResponse:\n",
    "#         \"\"\"Requests HTTP Response handler. Attaches .html property to\n",
    "#         class:`requests.Response <requests.Response>` objects.\n",
    "#         \"\"\"\n",
    "#         if not response.encoding:\n",
    "#             response.encoding = DEFAULT_ENCODING\n",
    "\n",
    "#         return response\n",
    "\n",
    "    def request(self, *args, **kwargs) -> HTMLResponse:\n",
    "        \"\"\"Makes an HTTP Request, with mocked User–Agent headers.\n",
    "        Returns a class:`HTTPResponse <HTTPResponse>`.\n",
    "        \"\"\"\n",
    "        # Convert Request object into HTTPRequest object.\n",
    "        r = super(HTMLSession, self).request(*args, **kwargs)\n",
    "        print(r)\n",
    "        print(r.headers)\n",
    "        # _from_response(r) 返回来的是 html_r，详见 HTMLResponse 类\n",
    "        return HTMLResponse._from_response(r), r"
   ]
  },
  {
   "cell_type": "code",
   "execution_count": 25,
   "metadata": {},
   "outputs": [
    {
     "name": "stdout",
     "output_type": "stream",
     "text": [
      "原 requests header python-requests/2.18.4\n",
      "新的 header Mozilla/5.0 (Macintosh; Intel Mac OS X 10_8_0) AppleWebKit/537.36 (KHTML, like Gecko) Chrome/32.0.1664.3 Safari/537.36\n"
     ]
    }
   ],
   "source": [
    "session = HTMLSession()"
   ]
  },
  {
   "cell_type": "code",
   "execution_count": 216,
   "metadata": {
    "scrolled": false
   },
   "outputs": [
    {
     "name": "stdout",
     "output_type": "stream",
     "text": [
      "<Response [200]>\n",
      "{'Server': 'nginx', 'Content-Type': 'text/html; charset=utf-8', 'X-Frame-Options': 'SAMEORIGIN', 'x-xss-protection': '1; mode=block', 'X-Clacks-Overhead': 'GNU Terry Pratchett', 'Via': '1.1 varnish, 1.1 varnish', 'Fastly-Debug-Digest': 'a63ab819df3b185a89db37a59e39f0dd85cf8ee71f54bbb42fae41670ae56fd2', 'Content-Length': '48851', 'Accept-Ranges': 'bytes', 'Date': 'Tue, 06 Mar 2018 13:53:01 GMT', 'Age': '2580', 'Connection': 'keep-alive', 'X-Served-By': 'cache-iad2123-IAD, cache-hnd18749-HND', 'X-Cache': 'HIT, HIT', 'X-Cache-Hits': '7, 29', 'X-Timer': 'S1520344381.239385,VS0,VE0', 'Vary': 'Cookie', 'Strict-Transport-Security': 'max-age=63072000; includeSubDomains'}\n",
      "cls:  <class '__main__.HTMLResponse'>\n"
     ]
    }
   ],
   "source": [
    "# requests.sessions.Session() 的 get 方法\n",
    "\n",
    "# get 返回 self.request('GET', url, **kwargs)\n",
    "# request 返回 self.send(prep, **send_kwargs)\n",
    "# send 返回 r\n",
    "# 与 r= session.get('https://python.org') = session.request('GET', 'https://python.org/') 两者等价\n",
    "# 最终返回的是 HTMLResponse._from_response(r)，而不是父类中的 r（我们设为 r_raw）\n",
    "r, r_raw = session.get('https://python.org')"
   ]
  },
  {
   "cell_type": "code",
   "execution_count": 219,
   "metadata": {},
   "outputs": [
    {
     "data": {
      "text/plain": [
       "(requests.models.Response, __main__.HTMLResponse)"
      ]
     },
     "execution_count": 219,
     "metadata": {},
     "output_type": "execute_result"
    }
   ],
   "source": [
    "# 类型不一样\n",
    "type(r_raw), type(r)"
   ]
  },
  {
   "cell_type": "code",
   "execution_count": 220,
   "metadata": {},
   "outputs": [
    {
     "data": {
      "text/plain": [
       "False"
      ]
     },
     "execution_count": 220,
     "metadata": {},
     "output_type": "execute_result"
    }
   ],
   "source": [
    "# 两者不同\n",
    "r == r_raw"
   ]
  },
  {
   "cell_type": "code",
   "execution_count": 221,
   "metadata": {},
   "outputs": [
    {
     "data": {
      "text/plain": [
       "True"
      ]
     },
     "execution_count": 221,
     "metadata": {},
     "output_type": "execute_result"
    }
   ],
   "source": [
    "# 内容相同，因为有相同的属性\n",
    "r.content  == r_raw.content"
   ]
  },
  {
   "cell_type": "code",
   "execution_count": 29,
   "metadata": {},
   "outputs": [
    {
     "name": "stdout",
     "output_type": "stream",
     "text": [
      "<HTML url='https://www.python.org/'>\n"
     ]
    },
    {
     "ename": "AttributeError",
     "evalue": "'Response' object has no attribute 'html'",
     "output_type": "error",
     "traceback": [
      "\u001b[0;31m---------------------------------------------------------------------------\u001b[0m",
      "\u001b[0;31mAttributeError\u001b[0m                            Traceback (most recent call last)",
      "\u001b[0;32m<ipython-input-29-b2702490f6b0>\u001b[0m in \u001b[0;36m<module>\u001b[0;34m()\u001b[0m\n\u001b[1;32m      1\u001b[0m \u001b[0;31m# r_raw 没有 html 属性\u001b[0m\u001b[0;34m\u001b[0m\u001b[0;34m\u001b[0m\u001b[0m\n\u001b[1;32m      2\u001b[0m \u001b[0mprint\u001b[0m\u001b[0;34m(\u001b[0m\u001b[0mr\u001b[0m\u001b[0;34m.\u001b[0m\u001b[0mhtml\u001b[0m\u001b[0;34m)\u001b[0m\u001b[0;34m\u001b[0m\u001b[0m\n\u001b[0;32m----> 3\u001b[0;31m \u001b[0mprint\u001b[0m\u001b[0;34m(\u001b[0m\u001b[0mr_raw\u001b[0m\u001b[0;34m.\u001b[0m\u001b[0mhtml\u001b[0m\u001b[0;34m)\u001b[0m\u001b[0;34m\u001b[0m\u001b[0m\n\u001b[0m",
      "\u001b[0;31mAttributeError\u001b[0m: 'Response' object has no attribute 'html'"
     ]
    }
   ],
   "source": [
    "# r_raw 没有 html 属性\n",
    "print(r.html)\n",
    "print(r_raw.html)"
   ]
  },
  {
   "cell_type": "code",
   "execution_count": 30,
   "metadata": {
    "scrolled": true
   },
   "outputs": [
    {
     "name": "stdout",
     "output_type": "stream",
     "text": [
      "About\n",
      "Applications\n",
      "Quotes\n",
      "Getting Started\n",
      "Help\n",
      "Python Brochure\n",
      "programming\n"
     ]
    }
   ],
   "source": [
    "about = r.html.find('#about', first=True)\n",
    "print(about.text)\n",
    "print(r.html.search('Python is a {} language')[0])"
   ]
  },
  {
   "cell_type": "markdown",
   "metadata": {},
   "source": [
    "## HTMLResponse"
   ]
  },
  {
   "cell_type": "code",
   "execution_count": 222,
   "metadata": {},
   "outputs": [],
   "source": [
    "# r_raw 也就是 requests.Response 没有 html 属性\n",
    "# 所以这里需要加一个 html 属性，通过这个类的 _from_response 方法，将 r_raw 变成 r\n",
    "class HTMLResponse(requests.Response):\n",
    "    \"\"\"An HTML-enabled :class:`requests.Response <requests.Response>` object.\n",
    "    Effectively the same, but with an intelligent ``.html`` property added.\n",
    "    \"\"\"\n",
    "\n",
    "    def __init__(self) -> None:\n",
    "        super(HTMLResponse, self).__init__()\n",
    "        self._html = None  # type: HTML\n",
    "    # 把方法作为属性调用\n",
    "    @property\n",
    "    def html(self) -> HTML:\n",
    "        # 之所以不直接返回，而是采取这种方式，是因为 html 是 r 的一个属性\n",
    "        if not self._html:\n",
    "            print(\"SELF: \", self)\n",
    "            print(\"SELF CONTENT: \", self.content[:50])\n",
    "            # self.content 继承的是 requests.Response 中的 content 方法\n",
    "            self._html = HTML(url=self.url, html=self.content, default_encoding=self.encoding)\n",
    "            print(\"ha\")\n",
    "            print(self._html)\n",
    "\n",
    "        return self._html\n",
    "    \n",
    "    # cls 调用 HTMLResponse 类\n",
    "    # 所以，返回去的新的 r 自然多了一个 html 属性\n",
    "    # html 实际也是一个类：HTML，也就是除了 HTML 这个类，其他功能都是 requests 的，这个包也没用到\n",
    "    @classmethod\n",
    "    def _from_response(cls, response):\n",
    "        print(\"cls: \", cls)\n",
    "        html_r = cls()\n",
    "        html_r.__dict__.update(response.__dict__)\n",
    "        return html_r"
   ]
  },
  {
   "cell_type": "code",
   "execution_count": 199,
   "metadata": {},
   "outputs": [],
   "source": [
    "# 自带的属性是 None\n",
    "HTMLResponse()._html"
   ]
  },
  {
   "cell_type": "code",
   "execution_count": 225,
   "metadata": {
    "scrolled": true
   },
   "outputs": [
    {
     "name": "stdout",
     "output_type": "stream",
     "text": [
      "cls:  <class '__main__.HTMLResponse'>\n",
      "SELF:  <Response [200]>\n",
      "SELF CONTENT:  b'<!doctype html>\\n<!--[if lt IE 7]>   <html class=\"n'\n",
      "SELF.ELEMENT:  <html class=\"no-js\" lang=\"en\" dir=\"ltr\">  <!--<![e <class 'pyquery.pyquery.PyQuery'>\n",
      "ha\n",
      "<HTML url='https://www.python.org/'>\n"
     ]
    },
    {
     "data": {
      "text/plain": [
       "<HTML url='https://www.python.org/'>"
      ]
     },
     "execution_count": 225,
     "metadata": {},
     "output_type": "execute_result"
    }
   ],
   "source": [
    "# 调用 from_response 方法后，类多了一个 html 属性（用 property 方法），\n",
    "# 而 html 属性实际是一个 HTML 的类\n",
    "HTMLResponse()._from_response(r_raw).html"
   ]
  },
  {
   "cell_type": "code",
   "execution_count": 186,
   "metadata": {
    "scrolled": true
   },
   "outputs": [
    {
     "data": {
      "text/plain": [
       "<HTML url='https://www.python.org/'>"
      ]
     },
     "execution_count": 186,
     "metadata": {},
     "output_type": "execute_result"
    }
   ],
   "source": [
    "r.html"
   ]
  },
  {
   "cell_type": "code",
   "execution_count": 171,
   "metadata": {},
   "outputs": [
    {
     "data": {
      "text/plain": [
       "__main__.HTML"
      ]
     },
     "execution_count": 171,
     "metadata": {},
     "output_type": "execute_result"
    }
   ],
   "source": [
    "type(r.html)"
   ]
  },
  {
   "cell_type": "code",
   "execution_count": 170,
   "metadata": {},
   "outputs": [
    {
     "data": {
      "text/plain": [
       "requests.models.Response"
      ]
     },
     "execution_count": 170,
     "metadata": {},
     "output_type": "execute_result"
    }
   ],
   "source": [
    "r_raw.__class__"
   ]
  },
  {
   "cell_type": "code",
   "execution_count": 109,
   "metadata": {},
   "outputs": [
    {
     "data": {
      "text/plain": [
       "dict_keys(['_content', '_content_consumed', '_next', 'status_code', 'headers', 'raw', 'url', 'encoding', 'history', 'reason', 'cookies', 'elapsed', 'request', 'connection'])"
      ]
     },
     "execution_count": 109,
     "metadata": {},
     "output_type": "execute_result"
    }
   ],
   "source": [
    "r_raw.__dict__.keys()"
   ]
  },
  {
   "cell_type": "code",
   "execution_count": 228,
   "metadata": {},
   "outputs": [
    {
     "name": "stdout",
     "output_type": "stream",
     "text": [
      "SELF:  <Response [200]>\n",
      "SELF CONTENT:  b'<!doctype html>\\n<!--[if lt IE 7]>   <html class=\"n'\n",
      "SELF.ELEMENT:  <html class=\"no-js\" lang=\"en\" dir=\"ltr\">  <!--<![e <class 'pyquery.pyquery.PyQuery'>\n",
      "ha\n",
      "<HTML url='https://www.python.org/'>\n"
     ]
    },
    {
     "data": {
      "text/plain": [
       "(<HTML url='https://www.python.org/'>, __main__.HTML)"
      ]
     },
     "execution_count": 228,
     "metadata": {},
     "output_type": "execute_result"
    }
   ],
   "source": [
    "# html 经过 property 就从方法变成给一个属性\n",
    "r.html, type(r.html)"
   ]
  },
  {
   "cell_type": "code",
   "execution_count": 229,
   "metadata": {},
   "outputs": [
    {
     "data": {
      "text/plain": [
       "<bound method BaseParser.find of <HTML url='https://www.python.org/'>>"
      ]
     },
     "execution_count": 229,
     "metadata": {},
     "output_type": "execute_result"
    }
   ],
   "source": [
    "r.html.find"
   ]
  },
  {
   "cell_type": "markdown",
   "metadata": {},
   "source": [
    "## HTML"
   ]
  },
  {
   "cell_type": "code",
   "execution_count": 234,
   "metadata": {},
   "outputs": [
    {
     "name": "stdout",
     "output_type": "stream",
     "text": [
      "test\n",
      "SELF.ELEMENT:  <html><body><p>b\"<a href=\"https://www.baidu.com\">\" <class 'pyquery.pyquery.PyQuery'>\n"
     ]
    },
    {
     "data": {
      "text/plain": [
       "<HTML url='https://example.org/'>"
      ]
     },
     "execution_count": 234,
     "metadata": {},
     "output_type": "execute_result"
    }
   ],
   "source": [
    "HTML(html=\"\"\"<a href='https://www.baidu.com'>\"\"\")"
   ]
  },
  {
   "cell_type": "code",
   "execution_count": 236,
   "metadata": {},
   "outputs": [
    {
     "name": "stdout",
     "output_type": "stream",
     "text": [
      "test\n",
      "SELF.ELEMENT:  <html><body><p>b\"<a href=\"https://www.baidu.com\">\" <class 'pyquery.pyquery.PyQuery'>\n"
     ]
    },
    {
     "data": {
      "text/plain": [
       "<HTML url='https://example.org/'>"
      ]
     },
     "execution_count": 236,
     "metadata": {},
     "output_type": "execute_result"
    }
   ],
   "source": [
    "# render() 注释后，无影响\n",
    "HTML(html=\"\"\"<a href='https://www.baidu.com'>\"\"\")"
   ]
  },
  {
   "cell_type": "code",
   "execution_count": 247,
   "metadata": {},
   "outputs": [
    {
     "name": "stdout",
     "output_type": "stream",
     "text": [
      "test\n",
      "SELF.ELEMENT:  <html><body><p>b\"<a href=\"https://python.org\">\"</a <class 'pyquery.pyquery.PyQuery'>\n"
     ]
    },
    {
     "data": {
      "text/plain": [
       "\"<a href='https://python.org'>\""
      ]
     },
     "execution_count": 247,
     "metadata": {},
     "output_type": "execute_result"
    }
   ],
   "source": [
    "# 与 h.html 返回的类型不同，\n",
    "# 其实下式等价的应该是 h.html.html，数据类型均为 str\n",
    "HTML(html=\"\"\"<a href='https://python.org'>\"\"\").html"
   ]
  },
  {
   "cell_type": "code",
   "execution_count": 248,
   "metadata": {},
   "outputs": [
    {
     "data": {
      "text/plain": [
       "str"
      ]
     },
     "execution_count": 248,
     "metadata": {},
     "output_type": "execute_result"
    }
   ],
   "source": [
    "type(_)"
   ]
  },
  {
   "cell_type": "code",
   "execution_count": 252,
   "metadata": {
    "scrolled": true
   },
   "outputs": [
    {
     "name": "stdout",
     "output_type": "stream",
     "text": [
      "test\n",
      "SELF.ELEMENT:  <html><body><p>b\"<a href=\"http://python.org\">\"</a> <class 'pyquery.pyquery.PyQuery'>\n",
      "SELF.ELEMENT:  <html><head>\n",
      "    <title>Example Domain</title>\n",
      "\n",
      "   <class 'pyquery.pyquery.PyQuery'>\n"
     ]
    }
   ],
   "source": [
    "HTML(html=\"\"\"<a href='http://python.org'>\"\"\").render()"
   ]
  },
  {
   "cell_type": "code",
   "execution_count": 253,
   "metadata": {},
   "outputs": [
    {
     "data": {
      "text/plain": [
       "type"
      ]
     },
     "execution_count": 253,
     "metadata": {},
     "output_type": "execute_result"
    }
   ],
   "source": [
    "type(_)"
   ]
  },
  {
   "cell_type": "code",
   "execution_count": 257,
   "metadata": {},
   "outputs": [
    {
     "data": {
      "text/plain": [
       "[<html.no-js>]"
      ]
     },
     "execution_count": 257,
     "metadata": {},
     "output_type": "execute_result"
    }
   ],
   "source": [
    "# HTML 类 其实也是 r.html\n",
    "r.html.element"
   ]
  },
  {
   "cell_type": "code",
   "execution_count": 251,
   "metadata": {},
   "outputs": [],
   "source": [
    "class HTML(BaseParser):\n",
    "    \"\"\"An HTML document, ready for parsing.\n",
    "    :param url: The URL from which the HTML originated, used for ``absolute_links``.\n",
    "    :param html: HTML from which to base the parsing upon (optional).\n",
    "    :param default_encoding: Which encoding to default to.\n",
    "    \"\"\"\n",
    "    # 命名关键字参数是为了限制调用者可以传入的参数名，同时可以提供默认值\n",
    "    # 定义命名关键字参数在没有可变参数的情况下要写分隔符 *，否则定义的是位置参数\n",
    "    def __init__(self, *, url: str = DEFAULT_URL, html: _HTML, \n",
    "                 default_encoding: str =DEFAULT_ENCODING) -> None:\n",
    "\n",
    "        # Convert incoming unicode HTML into bytes.\n",
    "        # 检查数据类型\n",
    "        if isinstance(html, str):\n",
    "            print(\"test\")\n",
    "            html = html.encode(DEFAULT_ENCODING)\n",
    "\n",
    "        super(HTML, self).__init__(\n",
    "            # Convert unicode HTML to bytes.\n",
    "            # 元素，如 <a>, <html> 等\n",
    "            element=PyQuery(html)('html') or PyQuery('<html>{}</html>'.format(html))('html'),\n",
    "            html=html,\n",
    "            url=url,\n",
    "            default_encoding=default_encoding\n",
    "        )\n",
    "        print(\"SELF.ELEMENT: \", str(self.element)[:50], type(self.element))\n",
    "        \n",
    "    # 函数 str() 用于将值转化为适于人阅读的形式，而 repr() 转化为供解释器读取的形式\n",
    "    # （如果没有等价的语法，则会发生 SyntaxError 异常）\n",
    "    # 某对象没有适于人阅读的解释形式的话， str() 会返回与 repr() 等同的值。\n",
    "    def __repr__(self) -> str:\n",
    "        return \"<HTML url={}>\".format(repr(self.url))\n",
    "    \n",
    "    # 转为 JavaScript\n",
    "    def render(self, retries: int = 8, script: str = None, scrolldown=False, \n",
    "               sleep: int = 0, reload: bool = True):\n",
    "        \"\"\"Reloads the response in Chromium, and replaces HTML content\n",
    "        with an updated version, with JavaScript executed.\n",
    "        :param retries: The number of times to retry loading the page in Chromium.\n",
    "        :param script: JavaScript to execute upon page load (optional).\n",
    "        :param scrolldown: Integer, if provided, of how many times to page down.\n",
    "        :param sleep: Integer, if provided, of how many long to sleep after initial render.\n",
    "        :param reload: If ``False``, content will not be loaded from the browser, \n",
    "        but will be provided from memory.\n",
    "        \n",
    "        If ``scrolldown`` is specified, the page will scrolldown the specified\n",
    "        number of times, after sleeping the specified amount of time\n",
    "        (e.g. ``scrolldown=10, sleep=1``).\n",
    "        If just ``sleep`` is provided, the rendering will wait *n* seconds, before\n",
    "        returning.\n",
    "        If ``script`` is specified, it will execute the provided JavaScript at\n",
    "        runtime. Example:\n",
    "        .. code-block:: python\n",
    "            script = \\\"\\\"\\\"\n",
    "                () => {\n",
    "                    return {\n",
    "                        width: document.documentElement.clientWidth,\n",
    "                        height: document.documentElement.clientHeight,\n",
    "                        deviceScaleFactor: window.devicePixelRatio,\n",
    "                    }\n",
    "                }\n",
    "            \\\"\\\"\\\"\n",
    "        Returns the return value of the executed  ``script``, if any is provided:\n",
    "        .. code-block:: python\n",
    "            >>> r.html.render(script=script)\n",
    "            {'width': 800, 'height': 600, 'deviceScaleFactor': 1}\n",
    "        Warning: the first time you run this method, it will download\n",
    "        Chromium into your home directory (``~/.pyppeteer``).\n",
    "        \"\"\"\n",
    "        async def _async_render(*, url: str, script: str = None, scrolldown, \n",
    "                                sleep: int, reload: bool = True, content: Optional[str]):\n",
    "            try:\n",
    "                # Start chromium process and return `Browser` object.\n",
    "                browser = pyppeteer.launch(headless=True)\n",
    "                page = await browser.newPage()\n",
    "\n",
    "                # Load the given page (GET request, obviously.)\n",
    "                if reload:\n",
    "                    await page.goto(url)\n",
    "                else:\n",
    "                    await page.setContent(content)\n",
    "\n",
    "                result = None\n",
    "                if script:\n",
    "                    result = await page.evaluate(script)\n",
    "\n",
    "                if scrolldown:\n",
    "                    for _ in range(scrolldown):\n",
    "                        await page._keyboard.down('PageDown')\n",
    "                        await asyncio.sleep(sleep)\n",
    "                else:\n",
    "                    await asyncio.sleep(sleep)\n",
    "\n",
    "                if scrolldown:\n",
    "                    await page._keyboard.up('PageDown')\n",
    "\n",
    "                # Return the content of the page, JavaScript evaluated.\n",
    "                content = await page.content()\n",
    "                return content, result\n",
    "            except TimeoutError:\n",
    "                return None\n",
    "\n",
    "        loop = asyncio.get_event_loop()\n",
    "        content = None\n",
    "\n",
    "        for i in range(retries):\n",
    "            if not content:\n",
    "                try:\n",
    "                    content, result = loop.run_until_complete(_async_render(url=self.url, \n",
    "                                                                            script=script, \n",
    "                                                                            sleep=sleep, \n",
    "                                                                            content=self.html, \n",
    "                                                                            reload=reload, \n",
    "                                                                            scrolldown=scrolldown))\n",
    "                except TimeoutError:\n",
    "                    pass\n",
    "\n",
    "        html = HTML(url=self.url, html=content.encode(DEFAULT_ENCODING), \n",
    "                    default_encoding=DEFAULT_ENCODING)\n",
    "        self.__dict__.update(html.__dict__)\n",
    "        return result"
   ]
  },
  {
   "cell_type": "markdown",
   "metadata": {},
   "source": [
    "## BaseParser"
   ]
  },
  {
   "cell_type": "code",
   "execution_count": 307,
   "metadata": {
    "scrolled": true
   },
   "outputs": [
    {
     "data": {
      "text/plain": [
       "'utf-8'"
      ]
     },
     "execution_count": 307,
     "metadata": {},
     "output_type": "execute_result"
    }
   ],
   "source": [
    "r.html.encoding"
   ]
  },
  {
   "cell_type": "code",
   "execution_count": 310,
   "metadata": {},
   "outputs": [
    {
     "data": {
      "text/plain": [
       "[<html.no-js>]"
      ]
     },
     "execution_count": 310,
     "metadata": {},
     "output_type": "execute_result"
    }
   ],
   "source": [
    "r.html.pq"
   ]
  },
  {
   "cell_type": "code",
   "execution_count": 309,
   "metadata": {},
   "outputs": [],
   "source": [
    "class BaseParser:\n",
    "    \"\"\"A basic HTML/Element Parser, for Humans.\n",
    "    :param element: The element from which to base the parsing upon.\n",
    "    :param default_encoding: Which encoding to default to.\n",
    "    :param html: HTML from which to base the parsing upon (optional).\n",
    "    :param url: The URL from which the HTML originated, used for ``absolute_links``.\n",
    "    \"\"\"\n",
    "\n",
    "    def __init__(self, *, element, default_encoding: _DefaultEncoding = None, \n",
    "                 html: _HTML = None, url: _URL) -> None:\n",
    "        self.element = element\n",
    "        self.url = url\n",
    "        self.skip_anchors = True\n",
    "        self.default_encoding = default_encoding\n",
    "        self._encoding = None\n",
    "        self._html = html.encode(DEFAULT_ENCODING) if isinstance(html, str) else html\n",
    "\n",
    "#     @property\n",
    "    def raw_html(self) -> _RawHTML:\n",
    "        \"\"\"Bytes representation of the HTML content.\n",
    "        (`learn more <http://www.diveintopython3.net/strings.html>`_).\n",
    "        \"\"\"\n",
    "        if self._html:\n",
    "            return self._html\n",
    "        else:\n",
    "            return etree.tostring(self.element, encoding='unicode').strip().encode(self.encoding)\n",
    "\n",
    "    @property\n",
    "    def html(self) -> _BaseHTML:\n",
    "        \"\"\"Unicode representation of the HTML content\n",
    "        (`learn more <http://www.diveintopython3.net/strings.html>`_).\n",
    "        \"\"\"\n",
    "        if self._html:\n",
    "            return self._html.decode(self.encoding)\n",
    "        else:\n",
    "            return etree.tostring(self.element, encoding='unicode').strip()\n",
    "    # 可读写属性\n",
    "    @html.setter\n",
    "    def html(self, html: bytes) -> None:\n",
    "        \"\"\"Property setter for self.html.\"\"\"\n",
    "        self._html = html\n",
    "\n",
    "    @property\n",
    "    def encoding(self) -> _Encoding:\n",
    "        \"\"\"The encoding string to be used, extracted from the HTML and\n",
    "        :class:`HTMLResponse <HTMLResponse>` headers.\n",
    "        \"\"\"\n",
    "        if self._encoding:\n",
    "            return self._encoding\n",
    "\n",
    "        # Scan meta tags for charset.\n",
    "        if self._html:\n",
    "            self._encoding = html_to_unicode(self.default_encoding, self._html)[0]\n",
    "\n",
    "        return self._encoding if self._encoding else self.default_encoding\n",
    "\n",
    "    @encoding.setter\n",
    "    def encoding(self, enc):\n",
    "        self._encoding = enc\n",
    "\n",
    "#     @property\n",
    "    def pq(self) -> PyQuery:\n",
    "        \"\"\"`PyQuery <https://pythonhosted.org/pyquery/>`_ representation\n",
    "        of the :class:`Element <Element>` or :class:`HTML <HTML>`.\n",
    "        \"\"\"\n",
    "        return PyQuery(self.element)\n",
    "\n",
    "    @property\n",
    "    def lxml(self) -> HtmlElement:\n",
    "        \"\"\"`lxml <http://lxml.de>`_ representation of the\n",
    "        :class:`Element <Element>` or :class:`HTML <HTML>`.\n",
    "        \"\"\"\n",
    "        return soup_parse(self.html, features='html.parser')\n",
    "\n",
    "    @property\n",
    "    def text(self) -> _Text:\n",
    "        \"\"\"The text content of the\n",
    "        :class:`Element <Element>` or :class:`HTML <HTML>`.\n",
    "        \"\"\"\n",
    "        return self.pq.text()\n",
    "\n",
    "    @property\n",
    "    def full_text(self) -> _Text:\n",
    "        \"\"\"The full text content (including links) of the\n",
    "        :class:`Element <Element>` or :class:`HTML <HTML>`.\n",
    "        \"\"\"\n",
    "        return self.lxml.text_content()\n",
    "\n",
    "    def find(self, selector: str, first: bool = False, _encoding: str = None) -> _Find:\n",
    "        \"\"\"Given a CSS Selector, returns a list of :class:`Element <Element>` objects.\n",
    "        :param selector: CSS Selector to use.\n",
    "        :param first: Whether or not to return just the first result.\n",
    "        :param _encoding: The encoding format.\n",
    "        Example CSS Selectors:\n",
    "        - ``a``\n",
    "        - ``a.someClass``\n",
    "        - ``a#someID``\n",
    "        - ``a[target=_blank]``\n",
    "        See W3School's `CSS Selectors Reference <https://www.w3schools.com/cssref/css_selectors.asp>`\n",
    "        _ for more details.\n",
    "        If ``first`` is ``True``, only returns the first :class:`Element <Element>` found.\"\"\"\n",
    "\n",
    "        encoding = _encoding or self.encoding\n",
    "        elements = [\n",
    "            Element(element=found, url=self.url, default_encoding=encoding)\n",
    "            for found in self.pq(selector)\n",
    "        ]\n",
    "\n",
    "        return _get_first_or_list(elements, first)\n",
    "\n",
    "    def xpath(self, selector: str, first: bool = False, _encoding: str = None) -> _XPath:\n",
    "        \"\"\"Given an XPath selector, returns a list of\n",
    "        :class:`Element <Element>` objects.\n",
    "        :param selector: XPath Selector to use.\n",
    "        :param first: Whether or not to return just the first result.\n",
    "        :param _encoding: The encoding format.\n",
    "        If a sub-selector is specified (e.g. ``//a/@href``), a simple\n",
    "        list of results is returned.\n",
    "        See W3School's `XPath Examples\n",
    "        <https://www.w3schools.com/xml/xpath_examples.asp>`_\n",
    "        for more details.\n",
    "        If ``first`` is ``True``, only returns the first\n",
    "        :class:`Element <Element>` found.\n",
    "        \"\"\"\n",
    "        selected = self.lxml.xpath(selector)\n",
    "\n",
    "        elements = [\n",
    "            Element(element=selection, url=self.url, default_encoding=_encoding or self.encoding)\n",
    "            if not isinstance(selection, etree._ElementUnicodeResult) else str(selection)\n",
    "            for selection in selected\n",
    "        ]\n",
    "\n",
    "        return _get_first_or_list(elements, first)\n",
    "\n",
    "    def search(self, template: str) -> Result:\n",
    "        \"\"\"Searches the :class:`Element <Element>` for the given Parse template.\n",
    "        :param template: The Parse template to use.\n",
    "        \"\"\"\n",
    "\n",
    "        return parse_search(template, self.html)\n",
    "\n",
    "    def search_all(self, template: str) -> Result:\n",
    "        \"\"\"Searches the :class:`Element <Element>` (multiple times) for the given parse\n",
    "        template.\n",
    "        :param template: The Parse template to use.\n",
    "        \"\"\"\n",
    "        return [r for r in findall(template, self.html)]\n",
    "\n",
    "    @property\n",
    "    def links(self) -> _Links:\n",
    "        \"\"\"All found links on page, in as–is form.\"\"\"\n",
    "        # 因为 yield 所以新建一个函数么？\n",
    "        def gen():\n",
    "            for link in self.find('a'):\n",
    "\n",
    "                try:\n",
    "                    href = link.attrs['href'].strip()\n",
    "                    if href and not (href.startswith('#') and \\\n",
    "                                     self.skip_anchors and href in ['javascript:;']):\n",
    "                        yield href\n",
    "                except KeyError:\n",
    "                    pass\n",
    "\n",
    "        return set(gen())\n",
    "\n",
    "    @property\n",
    "    def absolute_links(self) -> _Links:\n",
    "        \"\"\"All found links on page, in absolute form\n",
    "        (`learn more <https://www.navegabem.com/absolute-or-relative-links.html>`_).\n",
    "        \"\"\"\n",
    "\n",
    "        def gen():\n",
    "            for link in self.links:\n",
    "                # Parse the link with stdlib.\n",
    "                parsed = urlparse(link)._asdict()\n",
    "\n",
    "                # Appears to be a relative link:\n",
    "                if not parsed['netloc']:\n",
    "                    parsed['netloc'] = urlparse(self.base_url).netloc\n",
    "                if not parsed['scheme']:\n",
    "                    parsed['scheme'] = urlparse(self.base_url).scheme\n",
    "\n",
    "                # Re-construct URL, with new data.\n",
    "                parsed = (v for v in parsed.values())\n",
    "                href = urlunparse(parsed)\n",
    "\n",
    "                yield href\n",
    "\n",
    "        return set(gen())\n",
    "\n",
    "    @property\n",
    "    def base_url(self) -> _URL:\n",
    "        \"\"\"The base URL for the page. Supports the ``<base>`` tag\n",
    "        (`learn more <https://www.w3schools.com/tags/tag_base.asp>`_).\"\"\"\n",
    "\n",
    "        # Support for <base> tag.\n",
    "        base = self.find('base', first=True)\n",
    "        if base:\n",
    "            return base.attrs['href'].strip()\n",
    "\n",
    "        url = '/'.join(self.url.split('/')[:-1])\n",
    "        if url.endswith('/'):\n",
    "            url = url[:-1]\n",
    "\n",
    "        return url"
   ]
  },
  {
   "cell_type": "code",
   "execution_count": 12,
   "metadata": {},
   "outputs": [],
   "source": [
    "class Element(BaseParser):\n",
    "    \"\"\"An element of HTML.\n",
    "    :param element: The element from which to base the parsing upon.\n",
    "    :param url: The URL from which the HTML originated, used for ``absolute_links``.\n",
    "    :param default_encoding: Which encoding to default to.\n",
    "    \"\"\"\n",
    "\n",
    "    def __init__(self, *, element, url, default_encoding) -> None:\n",
    "        super(Element, self).__init__(element=element, url=url, default_encoding=default_encoding)\n",
    "        self.element = element\n",
    "\n",
    "    def __repr__(self) -> str:\n",
    "        attrs = ['{}={}'.format(attr, repr(self.attrs[attr])) for attr in self.attrs]\n",
    "        return \"<Element {} {}>\".format(repr(self.element.tag), ' '.join(attrs))\n",
    "\n",
    "    @property\n",
    "    def attrs(self) -> _Attrs:\n",
    "        \"\"\"Returns a dictionary of the attributes of the :class:`Element <Element>`\n",
    "        (`learn more <https://www.w3schools.com/tags/ref_attributes.asp>`_).\n",
    "        \"\"\"\n",
    "        attrs = {k: self.pq.attr[k].strip() for k in self.element.keys()}\n",
    "\n",
    "        # Split class up, as there are ussually many of them:\n",
    "        if 'class' in attrs:\n",
    "            attrs['class'] = tuple(attrs['class'].split())\n",
    "\n",
    "        return attrs"
   ]
  },
  {
   "cell_type": "code",
   "execution_count": null,
   "metadata": {},
   "outputs": [],
   "source": []
  }
 ],
 "metadata": {
  "kernelspec": {
   "display_name": "Python 3",
   "language": "python",
   "name": "python3"
  },
  "language_info": {
   "codemirror_mode": {
    "name": "ipython",
    "version": 3
   },
   "file_extension": ".py",
   "mimetype": "text/x-python",
   "name": "python",
   "nbconvert_exporter": "python",
   "pygments_lexer": "ipython3",
   "version": "3.6.2"
  },
  "toc": {
   "colors": {
    "hover_highlight": "#DAA520",
    "running_highlight": "#FF0000",
    "selected_highlight": "#FFD700"
   },
   "moveMenuLeft": true,
   "nav_menu": {
    "height": "30px",
    "width": "252px"
   },
   "navigate_menu": true,
   "number_sections": true,
   "sideBar": true,
   "threshold": 4,
   "toc_cell": true,
   "toc_section_display": "block",
   "toc_window_display": true
  }
 },
 "nbformat": 4,
 "nbformat_minor": 2
}
