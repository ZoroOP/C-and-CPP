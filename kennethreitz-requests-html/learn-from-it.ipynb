{
 "cells": [
  {
   "cell_type": "markdown",
   "metadata": {
    "toc": "true"
   },
   "source": [
    "<h1>Table of Contents<span class=\"tocSkip\"></span></h1>\n",
    "<div class=\"toc\"><ul class=\"toc-item\"><li><span><a href=\"#继承-super\" data-toc-modified-id=\"继承-super-1\"><span class=\"toc-item-num\">1&nbsp;&nbsp;</span>继承 super</a></span><ul class=\"toc-item\"><li><span><a href=\"#单继承\" data-toc-modified-id=\"单继承-1.1\"><span class=\"toc-item-num\">1.1&nbsp;&nbsp;</span>单继承</a></span></li><li><span><a href=\"#多继承\" data-toc-modified-id=\"多继承-1.2\"><span class=\"toc-item-num\">1.2&nbsp;&nbsp;</span>多继承</a></span></li></ul></li><li><span><a href=\"#self\" data-toc-modified-id=\"self-2\"><span class=\"toc-item-num\">2&nbsp;&nbsp;</span>self</a></span><ul class=\"toc-item\"><li><span><a href=\"#self-代表类的实例，而非类\" data-toc-modified-id=\"self-代表类的实例，而非类-2.1\"><span class=\"toc-item-num\">2.1&nbsp;&nbsp;</span>self 代表类的实例，而非类</a></span></li><li><span><a href=\"#self-不必非写成-self\" data-toc-modified-id=\"self-不必非写成-self-2.2\"><span class=\"toc-item-num\">2.2&nbsp;&nbsp;</span>self 不必非写成 self</a></span></li><li><span><a href=\"#self-可以不写吗\" data-toc-modified-id=\"self-可以不写吗-2.3\"><span class=\"toc-item-num\">2.3&nbsp;&nbsp;</span>self 可以不写吗</a></span></li><li><span><a href=\"#在继承时，是那个传入的实例\" data-toc-modified-id=\"在继承时，是那个传入的实例-2.4\"><span class=\"toc-item-num\">2.4&nbsp;&nbsp;</span>在继承时，是那个传入的实例</a></span></li><li><span><a href=\"#在描述符类中是描述符类的实例\" data-toc-modified-id=\"在描述符类中是描述符类的实例-2.5\"><span class=\"toc-item-num\">2.5&nbsp;&nbsp;</span>在描述符类中是描述符类的实例</a></span></li></ul></li><li><span><a href=\"#property\" data-toc-modified-id=\"property-3\"><span class=\"toc-item-num\">3&nbsp;&nbsp;</span>property</a></span></li><li><span><a href=\"#类方法\" data-toc-modified-id=\"类方法-4\"><span class=\"toc-item-num\">4&nbsp;&nbsp;</span>类方法</a></span></li><li><span><a href=\"#给函数参数添加元信息\" data-toc-modified-id=\"给函数参数添加元信息-5\"><span class=\"toc-item-num\">5&nbsp;&nbsp;</span>给函数参数添加元信息</a></span></li><li><span><a href=\"#参数\" data-toc-modified-id=\"参数-6\"><span class=\"toc-item-num\">6&nbsp;&nbsp;</span>参数</a></span><ul class=\"toc-item\"><li><span><a href=\"#一个例子\" data-toc-modified-id=\"一个例子-6.1\"><span class=\"toc-item-num\">6.1&nbsp;&nbsp;</span>一个例子</a></span></li><li><span><a href=\"#任意数量的位置参数\" data-toc-modified-id=\"任意数量的位置参数-6.2\"><span class=\"toc-item-num\">6.2&nbsp;&nbsp;</span>任意数量的位置参数</a></span></li><li><span><a href=\"#任意数量的关键字参数\" data-toc-modified-id=\"任意数量的关键字参数-6.3\"><span class=\"toc-item-num\">6.3&nbsp;&nbsp;</span>任意数量的关键字参数</a></span></li><li><span><a href=\"#任意数量的位置参数和关键字参数\" data-toc-modified-id=\"任意数量的位置参数和关键字参数-6.4\"><span class=\"toc-item-num\">6.4&nbsp;&nbsp;</span>任意数量的位置参数和关键字参数</a></span></li><li><span><a href=\"#任意多位置参数中的关键字参数\" data-toc-modified-id=\"任意多位置参数中的关键字参数-6.5\"><span class=\"toc-item-num\">6.5&nbsp;&nbsp;</span>任意多位置参数中的关键字参数</a></span></li><li><span><a href=\"#partial\" data-toc-modified-id=\"partial-6.6\"><span class=\"toc-item-num\">6.6&nbsp;&nbsp;</span>partial</a></span></li></ul></li><li><span><a href=\"#异步\" data-toc-modified-id=\"异步-7\"><span class=\"toc-item-num\">7&nbsp;&nbsp;</span>异步</a></span><ul class=\"toc-item\"><li><span><a href=\"#async-+-await\" data-toc-modified-id=\"async-+-await-7.1\"><span class=\"toc-item-num\">7.1&nbsp;&nbsp;</span>async + await</a></span></li><li><span><a href=\"#函数：买土豆例子\" data-toc-modified-id=\"函数：买土豆例子-7.2\"><span class=\"toc-item-num\">7.2&nbsp;&nbsp;</span>函数：买土豆例子</a></span></li><li><span><a href=\"#类实例普通方法、类方法\" data-toc-modified-id=\"类实例普通方法、类方法-7.3\"><span class=\"toc-item-num\">7.3&nbsp;&nbsp;</span>类实例普通方法、类方法</a></span></li><li><span><a href=\"#其他应用\" data-toc-modified-id=\"其他应用-7.4\"><span class=\"toc-item-num\">7.4&nbsp;&nbsp;</span>其他应用</a></span></li><li><span><a href=\"#await-和-yield-from\" data-toc-modified-id=\"await-和-yield-from-7.5\"><span class=\"toc-item-num\">7.5&nbsp;&nbsp;</span>await 和 yield from</a></span></li><li><span><a href=\"#其他异步库\" data-toc-modified-id=\"其他异步库-7.6\"><span class=\"toc-item-num\">7.6&nbsp;&nbsp;</span>其他异步库</a></span></li><li><span><a href=\"#小结\" data-toc-modified-id=\"小结-7.7\"><span class=\"toc-item-num\">7.7&nbsp;&nbsp;</span>小结</a></span></li></ul></li></ul></div>"
   ]
  },
  {
   "cell_type": "markdown",
   "metadata": {},
   "source": [
    "整理一下知识点。\n",
    "\n",
    "\n",
    "- 继承 `super`\n",
    "- `self`\n",
    "- 给函数参数添加元信息：`def user_agent(style='chrome') -> _UserAgent:`\n",
    "- property：把方法变成属性，同时可设置成 setter or getter，分别代表可读写和只读属性\n",
    "- 类方法\n",
    "- 参数：`def __init__(self, *, url: str = DEFAULT_URL, html: _HTML) -> None`\n",
    "- 异步方法：`async`\n",
    "- 特殊方法：`__repr__`: `__repr__` 和 `__str__` 的区别在于，后者是在 `str()` 函数被使用，或是在用 `print` 函数打印一个对象的时候才被调用的，并且返回的字符串对终端用户更友好。"
   ]
  },
  {
   "cell_type": "markdown",
   "metadata": {},
   "source": [
    "# 继承 super\n",
    "\n",
    "参考：[Python: super 没那么简单 - Huang Huang 的博客](https://mozillazg.com/2016/12/python-super-is-not-as-simple-as-you-thought.html)\n",
    "\n",
    "- MRO: Method Resolution Order"
   ]
  },
  {
   "cell_type": "markdown",
   "metadata": {},
   "source": [
    "## 单继承"
   ]
  },
  {
   "cell_type": "code",
   "execution_count": 112,
   "metadata": {},
   "outputs": [],
   "source": [
    "class A:\n",
    "    def __init__(self):\n",
    "        self.n = 2\n",
    "\n",
    "    def add(self, m):\n",
    "        print('self is {0} @A.add'.format(self))\n",
    "        self.n += m\n",
    "\n",
    "\n",
    "class B(A):\n",
    "    def __init__(self):\n",
    "        self.n = 3\n",
    "\n",
    "    def add(self, m):\n",
    "        print('self is {0} @B.add'.format(self))\n",
    "        super().add(m)\n",
    "        self.n += 3"
   ]
  },
  {
   "cell_type": "code",
   "execution_count": 113,
   "metadata": {
    "scrolled": true
   },
   "outputs": [
    {
     "name": "stdout",
     "output_type": "stream",
     "text": [
      "self is <__main__.B object at 0x10a38f9b0> @B.add\n",
      "self is <__main__.B object at 0x10a38f9b0> @A.add\n",
      "8\n"
     ]
    }
   ],
   "source": [
    "b = B()\n",
    "b.add(2)\n",
    "print(b.n)"
   ]
  },
  {
   "cell_type": "code",
   "execution_count": 114,
   "metadata": {},
   "outputs": [
    {
     "data": {
      "text/plain": [
       "[__main__.A, object]"
      ]
     },
     "execution_count": 114,
     "metadata": {},
     "output_type": "execute_result"
    }
   ],
   "source": [
    "A.mro()"
   ]
  },
  {
   "cell_type": "code",
   "execution_count": 115,
   "metadata": {},
   "outputs": [
    {
     "data": {
      "text/plain": [
       "[__main__.B, __main__.A, object]"
      ]
     },
     "execution_count": 115,
     "metadata": {},
     "output_type": "execute_result"
    }
   ],
   "source": [
    "B.mro()"
   ]
  },
  {
   "cell_type": "markdown",
   "metadata": {},
   "source": [
    "- `super().add(m)` 确实调用了父类 A 的 add 方法。\n",
    "- `super().add(m)` 调用父类方法 `def add(self, m)` 时, 此时父类中 `self` 并不是父类的实例而是子类的实例, 所以 `b.add(2)` 之后的结果是 5 而不是 4 。"
   ]
  },
  {
   "cell_type": "markdown",
   "metadata": {},
   "source": [
    "## 多继承"
   ]
  },
  {
   "cell_type": "code",
   "execution_count": 107,
   "metadata": {},
   "outputs": [],
   "source": [
    "class C(A):\n",
    "    def __init__(self):\n",
    "        self.n = 4\n",
    "    \n",
    "    def add(self, m):\n",
    "        print('self is {0} @C.add'.format(self))\n",
    "        super().add(m)\n",
    "        self.n += 4\n",
    "\n",
    "class D(B, C):\n",
    "    def __init__(self):\n",
    "        self.n = 5\n",
    "    \n",
    "    def add(self, m):\n",
    "        print('self is {0} @D.add'.format(self))\n",
    "        super().add(m)\n",
    "        self.n += 5"
   ]
  },
  {
   "cell_type": "code",
   "execution_count": 108,
   "metadata": {},
   "outputs": [
    {
     "name": "stdout",
     "output_type": "stream",
     "text": [
      "self is <__main__.D object at 0x10a27a9e8> @D.add\n",
      "self is <__main__.D object at 0x10a27a9e8> @B.add\n",
      "self is <__main__.D object at 0x10a27a9e8> @C.add\n",
      "self is <__main__.D object at 0x10a27a9e8> @A.add\n",
      "19\n"
     ]
    }
   ],
   "source": [
    "d = D()\n",
    "d.add(2)\n",
    "print(d.n)"
   ]
  },
  {
   "cell_type": "code",
   "execution_count": 116,
   "metadata": {
    "scrolled": true
   },
   "outputs": [
    {
     "data": {
      "text/plain": [
       "[__main__.D, __main__.B, __main__.C, __main__.A, object]"
      ]
     },
     "execution_count": 116,
     "metadata": {},
     "output_type": "execute_result"
    }
   ],
   "source": [
    "D.mro()"
   ]
  },
  {
   "cell_type": "code",
   "execution_count": 123,
   "metadata": {},
   "outputs": [
    {
     "name": "stdout",
     "output_type": "stream",
     "text": [
      "self is <__main__.D object at 0x10a3e00b8> @D.add\n",
      "self is <__main__.D object at 0x10a3e00b8> @B.add\n",
      "self is <__main__.D object at 0x10a3e00b8> @C.add\n",
      "self is <__main__.D object at 0x10a3e00b8> @A.add\n",
      "19\n"
     ]
    }
   ],
   "source": [
    "# 注意 self 就是那个类，默认实例，instance\n",
    "class A:\n",
    "    def __init__(self):\n",
    "        self.n = 0\n",
    "\n",
    "    def add(self, m):\n",
    "        # 第四步\n",
    "        # 来自 D.add 中的 super\n",
    "        # self == d, self.n == d.n == 5\n",
    "        print('self is {0} @A.add'.format(self))\n",
    "        self.n += m\n",
    "        # d.n == 7\n",
    "\n",
    "\n",
    "class B(A):\n",
    "    def __init__(self):\n",
    "        self.n = 0\n",
    "\n",
    "    def add(self, m):\n",
    "        # 第二步\n",
    "        # 来自 D.add 中的 super\n",
    "        # self == d, self.n == d.n == 5\n",
    "        print('self is {0} @B.add'.format(self))\n",
    "        # 等价于 suepr(B, self).add(m)\n",
    "        # self 的 MRO 是 [D, B, C, A, object]\n",
    "        # 从 B 之后的 [C, A, object] 中查找 add 方法\n",
    "        super().add(m)\n",
    "\n",
    "        # 第六步\n",
    "        # d.n = 11\n",
    "        self.n += 3\n",
    "        # d.n = 14\n",
    "\n",
    "class C(A):\n",
    "    def __init__(self):\n",
    "        self.n = 0\n",
    "\n",
    "    def add(self, m):\n",
    "        # 第三步\n",
    "        # 来自 B.add 中的 super\n",
    "        # self == d, self.n == d.n == 5\n",
    "        print('self is {0} @C.add'.format(self))\n",
    "        # 等价于 suepr(C, self).add(m)\n",
    "        # self 的 MRO 是 [D, B, C, A, object]\n",
    "        # 从 C 之后的 [A, object] 中查找 add 方法\n",
    "        super().add(m)\n",
    "\n",
    "        # 第五步\n",
    "        # d.n = 7\n",
    "        self.n += 4\n",
    "        # d.n = 11\n",
    "\n",
    "\n",
    "class D(B, C):\n",
    "    def __init__(self):\n",
    "        self.n = 5\n",
    "\n",
    "    def add(self, m):\n",
    "        # 第一步\n",
    "        print('self is {0} @D.add'.format(self))\n",
    "        # 等价于 super(D, self).add(m)\n",
    "        # self 的 MRO 是 [D, B, C, A, object]\n",
    "        # 从 D 之后的 [B, C, A, object] 中查找 add 方法\n",
    "        super().add(m)\n",
    "\n",
    "        # 第七步\n",
    "        # d.n = 14\n",
    "        self.n += 5\n",
    "        # self.n = 19\n",
    "\n",
    "d = D()\n",
    "d.add(2)\n",
    "print(d.n)"
   ]
  },
  {
   "cell_type": "markdown",
   "metadata": {},
   "source": [
    "```\n",
    "D.mro() == [D, B, C, A, object]\n",
    "d = D()\n",
    "d.n == 5\n",
    "d.add(2)\n",
    "\n",
    "class D(B, C):          class B(A):            class C(A):             class A:\n",
    "    def add(self, m):       def add(self, m):      def add(self, m):       def add(self, m):\n",
    "        super().add(m)  1.--->  super().add(m) 2.--->  super().add(m)  3.--->  self.n += m\n",
    "        self.n += 5   <------6. self.n += 3    <----5. self.n += 4     <----4. <--|\n",
    "        (14+5=19)               (11+3=14)              (7+4=11)                (5+2=7)\n",
    "```"
   ]
  },
  {
   "cell_type": "markdown",
   "metadata": {},
   "source": [
    "# self\n",
    "\n",
    "[一篇文章让你彻底搞清楚 Python 中 self 的含义 - jessonsh - 博客园](http://www.cnblogs.com/jessonluo/p/4717140.html)\n",
    "\n",
    "- self 需要定义，调用时自动传入\n",
    "- self 总是指调用时的类的实例\n",
    "- 如果定义和调用时均不传类实例就是类方法"
   ]
  },
  {
   "cell_type": "markdown",
   "metadata": {},
   "source": [
    "## self 代表类的实例，而非类"
   ]
  },
  {
   "cell_type": "code",
   "execution_count": 124,
   "metadata": {},
   "outputs": [],
   "source": [
    "class A:\n",
    "    def prt(self):\n",
    "        print(self)\n",
    "        print(self.__class__)"
   ]
  },
  {
   "cell_type": "code",
   "execution_count": 125,
   "metadata": {},
   "outputs": [
    {
     "name": "stdout",
     "output_type": "stream",
     "text": [
      "<__main__.A object at 0x10a17ebe0>\n",
      "<class '__main__.A'>\n"
     ]
    }
   ],
   "source": [
    "a = A()\n",
    "a.prt()"
   ]
  },
  {
   "cell_type": "markdown",
   "metadata": {},
   "source": [
    "- `self` 代表类的实例 object\n",
    "- `self.__class__` 指向类"
   ]
  },
  {
   "cell_type": "markdown",
   "metadata": {},
   "source": [
    "## self 不必非写成 self"
   ]
  },
  {
   "cell_type": "code",
   "execution_count": 126,
   "metadata": {},
   "outputs": [],
   "source": [
    "class A:\n",
    "    def prt(test):\n",
    "        print(test)\n",
    "        print(test.__class__)"
   ]
  },
  {
   "cell_type": "code",
   "execution_count": 127,
   "metadata": {},
   "outputs": [
    {
     "name": "stdout",
     "output_type": "stream",
     "text": [
      "<__main__.A object at 0x10a22be80>\n",
      "<class '__main__.A'>\n"
     ]
    }
   ],
   "source": [
    "a = A()\n",
    "a.prt()"
   ]
  },
  {
   "cell_type": "markdown",
   "metadata": {},
   "source": [
    "## self 可以不写吗\n",
    "\n",
    "- 在 Python 的解释器内部，当我们调用 a.prt() 时，实际上 Python 解释成 A.prt(a)，也就是说把 self 替换成类的实例。\n",
    "- 如果我们的定义和调用时均不传类实例是可以的，这就是类方法。"
   ]
  },
  {
   "cell_type": "code",
   "execution_count": 140,
   "metadata": {},
   "outputs": [],
   "source": [
    "class A:\n",
    "    def prt():\n",
    "        print(self)\n",
    "        print(self.__class__)"
   ]
  },
  {
   "cell_type": "code",
   "execution_count": 141,
   "metadata": {},
   "outputs": [
    {
     "ename": "TypeError",
     "evalue": "prt() takes 0 positional arguments but 1 was given",
     "output_type": "error",
     "traceback": [
      "\u001b[0;31m---------------------------------------------------------------------------\u001b[0m",
      "\u001b[0;31mTypeError\u001b[0m                                 Traceback (most recent call last)",
      "\u001b[0;32m<ipython-input-141-d79e7f21b029>\u001b[0m in \u001b[0;36m<module>\u001b[0;34m()\u001b[0m\n\u001b[1;32m      1\u001b[0m \u001b[0ma\u001b[0m \u001b[0;34m=\u001b[0m \u001b[0mA\u001b[0m\u001b[0;34m(\u001b[0m\u001b[0;34m)\u001b[0m\u001b[0;34m\u001b[0m\u001b[0m\n\u001b[0;32m----> 2\u001b[0;31m \u001b[0ma\u001b[0m\u001b[0;34m.\u001b[0m\u001b[0mprt\u001b[0m\u001b[0;34m(\u001b[0m\u001b[0;34m)\u001b[0m\u001b[0;34m\u001b[0m\u001b[0m\n\u001b[0m",
      "\u001b[0;31mTypeError\u001b[0m: prt() takes 0 positional arguments but 1 was given"
     ]
    }
   ],
   "source": [
    "a = A()\n",
    "a.prt()"
   ]
  },
  {
   "cell_type": "code",
   "execution_count": 147,
   "metadata": {},
   "outputs": [],
   "source": [
    "class A:\n",
    "    def prt():\n",
    "        print(\"ha\")\n",
    "        print(__class__)"
   ]
  },
  {
   "cell_type": "code",
   "execution_count": 148,
   "metadata": {},
   "outputs": [
    {
     "name": "stdout",
     "output_type": "stream",
     "text": [
      "ha\n",
      "<class '__main__.A'>\n"
     ]
    }
   ],
   "source": [
    "# 注意这里 A 没有括号\n",
    "a = A\n",
    "a.prt()"
   ]
  },
  {
   "cell_type": "markdown",
   "metadata": {},
   "source": [
    "## 在继承时，是那个传入的实例"
   ]
  },
  {
   "cell_type": "code",
   "execution_count": 161,
   "metadata": {},
   "outputs": [],
   "source": [
    "class A:\n",
    "    def aprt(self):\n",
    "        print(self)\n",
    "\n",
    "class B(A):\n",
    "    def bprt(self):\n",
    "        print(self)"
   ]
  },
  {
   "cell_type": "code",
   "execution_count": 156,
   "metadata": {},
   "outputs": [
    {
     "name": "stdout",
     "output_type": "stream",
     "text": [
      "<__main__.A object at 0x10a3092e8>\n"
     ]
    }
   ],
   "source": [
    "A().pprt()"
   ]
  },
  {
   "cell_type": "code",
   "execution_count": 165,
   "metadata": {},
   "outputs": [
    {
     "name": "stdout",
     "output_type": "stream",
     "text": [
      "<__main__.B object at 0x10a2f8e80>\n",
      "<__main__.B object at 0x10a2f8e80>\n",
      "<__main__.A object at 0x10ac65160>\n"
     ]
    }
   ],
   "source": [
    "b = B()\n",
    "# 都是传入的 B，即使调用了 A\n",
    "b.bprt()\n",
    "b.aprt()\n",
    "\n",
    "a = A()\n",
    "a.aprt()"
   ]
  },
  {
   "cell_type": "markdown",
   "metadata": {},
   "source": [
    "## 在描述符类中是描述符类的实例"
   ]
  },
  {
   "cell_type": "code",
   "execution_count": 171,
   "metadata": {},
   "outputs": [],
   "source": [
    "class Desc:\n",
    "    def __get__(self, ins, cls):\n",
    "        print('self in Desc: %s' % self)\n",
    "        print(self, ins, cls)\n",
    "\n",
    "class Test:\n",
    "    # x 为描述符属性，是 Desc 类的实例\n",
    "    x = Desc()\n",
    "    def prt(self):\n",
    "        print('self in Test: %s' % self)"
   ]
  },
  {
   "cell_type": "code",
   "execution_count": 172,
   "metadata": {},
   "outputs": [],
   "source": [
    "t = Test()"
   ]
  },
  {
   "cell_type": "code",
   "execution_count": 173,
   "metadata": {},
   "outputs": [
    {
     "name": "stdout",
     "output_type": "stream",
     "text": [
      "self in Test: <__main__.Test object at 0x10a23ae48>\n"
     ]
    }
   ],
   "source": [
    "t.prt()"
   ]
  },
  {
   "cell_type": "code",
   "execution_count": 174,
   "metadata": {},
   "outputs": [
    {
     "name": "stdout",
     "output_type": "stream",
     "text": [
      "self in Desc: <__main__.Desc object at 0x10a2352b0>\n",
      "<__main__.Desc object at 0x10a2352b0> <__main__.Test object at 0x10a23ae48> <class '__main__.Test'>\n"
     ]
    }
   ],
   "source": [
    "t.x"
   ]
  },
  {
   "cell_type": "code",
   "execution_count": 177,
   "metadata": {},
   "outputs": [
    {
     "name": "stdout",
     "output_type": "stream",
     "text": [
      "self in Desc: <__main__.Desc object at 0x10a2352b0>\n",
      "<__main__.Desc object at 0x10a2352b0> None <class '__main__.Test'>\n"
     ]
    }
   ],
   "source": [
    "# 直接通过类调用，就没有 类实例 了\n",
    "Test.x"
   ]
  },
  {
   "cell_type": "markdown",
   "metadata": {},
   "source": [
    "# property\n",
    "\n",
    "[使用 @property - 廖雪峰的官方网站](https://www.liaoxuefeng.com/wiki/001374738125095c955c1e6d8bb493182103fac9270762a000/001386820062641f3bcc60a4b164f8d91df476445697b9e000)"
   ]
  },
  {
   "cell_type": "code",
   "execution_count": 289,
   "metadata": {},
   "outputs": [],
   "source": [
    "class Student(object):\n",
    "    \n",
    "    def __init__(self):\n",
    "        self._score = 100\n",
    "\n",
    "    @property\n",
    "    def score(self):\n",
    "        return self._score\n",
    "\n",
    "    @score.setter\n",
    "    def score(self, value):\n",
    "        if not isinstance(value, int):\n",
    "            raise ValueError('score must be an integer!')\n",
    "        if value < 0 or value > 100:\n",
    "            raise ValueError('score must between 0 ~ 100!')\n",
    "        self._score = value"
   ]
  },
  {
   "cell_type": "code",
   "execution_count": 290,
   "metadata": {},
   "outputs": [],
   "source": [
    "s = Student()\n",
    "s.score = 60"
   ]
  },
  {
   "cell_type": "code",
   "execution_count": 292,
   "metadata": {},
   "outputs": [
    {
     "data": {
      "text/plain": [
       "60"
      ]
     },
     "execution_count": 292,
     "metadata": {},
     "output_type": "execute_result"
    }
   ],
   "source": [
    "s.score"
   ]
  },
  {
   "cell_type": "code",
   "execution_count": 296,
   "metadata": {},
   "outputs": [],
   "source": [
    "class Person(object):\n",
    "    \"\"\"\"\"\"\n",
    " \n",
    "    #----------------------------------------------------------------------\n",
    "    def __init__(self, first_name, last_name):\n",
    "        \"\"\"Constructor\"\"\"\n",
    "        self.first_name = first_name\n",
    "        self.last_name = last_name\n",
    " \n",
    "    #----------------------------------------------------------------------\n",
    "    @property\n",
    "    def full_name(self):\n",
    "        \"\"\"\n",
    "        Return the full name\n",
    "        \"\"\"\n",
    "        return \"%s %s\" % (self.first_name, self.last_name)"
   ]
  },
  {
   "cell_type": "code",
   "execution_count": 297,
   "metadata": {},
   "outputs": [],
   "source": [
    "person = Person(\"Yam\", \"Houston\")"
   ]
  },
  {
   "cell_type": "code",
   "execution_count": 302,
   "metadata": {},
   "outputs": [],
   "source": [
    "person.first_name = \"Love\""
   ]
  },
  {
   "cell_type": "code",
   "execution_count": 303,
   "metadata": {},
   "outputs": [
    {
     "data": {
      "text/plain": [
       "'Love Houston'"
      ]
     },
     "execution_count": 303,
     "metadata": {},
     "output_type": "execute_result"
    }
   ],
   "source": [
    "person.full_name"
   ]
  },
  {
   "cell_type": "markdown",
   "metadata": {},
   "source": [
    "# 类方法\n",
    "\n",
    "[python 的 cls，self，classmethod，staticmethod - CSDN 博客](http://blog.csdn.net/xluren/article/details/9168535)\n",
    "\n",
    "共有三种：  \n",
    "\n",
    "- def 定义的，需要至少传递一个参数，一般用 self。必须通过一个类的实例去访问。\n",
    "- def 前面加上 `@classmethod`，可以通过类名或类的实例去调用，但必须传递一个参数，一般用 cls 表示 class。\n",
    "- def 前面加上 `@staticmethod`，静态类方法，参数可以为空，支持类名和对象两种调用方式。\n",
    "\n",
    "另外，注意：被 `@abstractmethod` 装饰的类不能被实例化。"
   ]
  },
  {
   "cell_type": "code",
   "execution_count": 1,
   "metadata": {},
   "outputs": [],
   "source": [
    "class A:\n",
    "    member = \"thit is a test.\"\n",
    "    def __init__(self):\n",
    "        pass\n",
    "    \n",
    "    @classmethod\n",
    "    def prt1(cls):\n",
    "        print(\"prt1: \", cls.member)\n",
    "        cls.prt2()\n",
    "    \n",
    "    @classmethod\n",
    "    def prt5(self):\n",
    "        print(\"prt5: \", self.member)\n",
    "        # will be wrong\n",
    "        self.prt6()\n",
    "    \n",
    "    def prt6(self):\n",
    "        self.prt5()\n",
    "    \n",
    "    @classmethod\n",
    "    def prt2(self):\n",
    "        print(\"prt2: \", self.member)\n",
    "    \n",
    "    @classmethod\n",
    "    def prt3(B):\n",
    "        print(\"B is: \", B)\n",
    "        print(\"prt3: \", B.member)\n",
    "    \n",
    "    @staticmethod\n",
    "    def prt4(a):\n",
    "        print(\"hello\")"
   ]
  },
  {
   "cell_type": "code",
   "execution_count": 2,
   "metadata": {},
   "outputs": [
    {
     "name": "stdout",
     "output_type": "stream",
     "text": [
      "prt1:  thit is a test.\n",
      "prt2:  thit is a test.\n"
     ]
    }
   ],
   "source": [
    "A.prt1()"
   ]
  },
  {
   "cell_type": "code",
   "execution_count": 3,
   "metadata": {},
   "outputs": [],
   "source": [
    "a = A()"
   ]
  },
  {
   "cell_type": "code",
   "execution_count": 4,
   "metadata": {},
   "outputs": [
    {
     "name": "stdout",
     "output_type": "stream",
     "text": [
      "prt5:  thit is a test.\n"
     ]
    },
    {
     "ename": "TypeError",
     "evalue": "prt6() missing 1 required positional argument: 'self'",
     "output_type": "error",
     "traceback": [
      "\u001b[0;31m---------------------------------------------------------------------------\u001b[0m",
      "\u001b[0;31mTypeError\u001b[0m                                 Traceback (most recent call last)",
      "\u001b[0;32m<ipython-input-4-59e28cfae46b>\u001b[0m in \u001b[0;36m<module>\u001b[0;34m\u001b[0m\n\u001b[0;32m----> 1\u001b[0;31m \u001b[0mA\u001b[0m\u001b[0;34m.\u001b[0m\u001b[0mprt5\u001b[0m\u001b[0;34m(\u001b[0m\u001b[0;34m)\u001b[0m\u001b[0;34m\u001b[0m\u001b[0;34m\u001b[0m\u001b[0m\n\u001b[0m",
      "\u001b[0;32m<ipython-input-1-e05b74d19a47>\u001b[0m in \u001b[0;36mprt5\u001b[0;34m(self)\u001b[0m\n\u001b[1;32m     13\u001b[0m         \u001b[0mprint\u001b[0m\u001b[0;34m(\u001b[0m\u001b[0;34m\"prt5: \"\u001b[0m\u001b[0;34m,\u001b[0m \u001b[0mself\u001b[0m\u001b[0;34m.\u001b[0m\u001b[0mmember\u001b[0m\u001b[0;34m)\u001b[0m\u001b[0;34m\u001b[0m\u001b[0;34m\u001b[0m\u001b[0m\n\u001b[1;32m     14\u001b[0m         \u001b[0;31m# will be wrong\u001b[0m\u001b[0;34m\u001b[0m\u001b[0;34m\u001b[0m\u001b[0;34m\u001b[0m\u001b[0m\n\u001b[0;32m---> 15\u001b[0;31m         \u001b[0mself\u001b[0m\u001b[0;34m.\u001b[0m\u001b[0mprt6\u001b[0m\u001b[0;34m(\u001b[0m\u001b[0;34m)\u001b[0m\u001b[0;34m\u001b[0m\u001b[0;34m\u001b[0m\u001b[0m\n\u001b[0m\u001b[1;32m     16\u001b[0m \u001b[0;34m\u001b[0m\u001b[0m\n\u001b[1;32m     17\u001b[0m     \u001b[0;32mdef\u001b[0m \u001b[0mprt6\u001b[0m\u001b[0;34m(\u001b[0m\u001b[0mself\u001b[0m\u001b[0;34m)\u001b[0m\u001b[0;34m:\u001b[0m\u001b[0;34m\u001b[0m\u001b[0;34m\u001b[0m\u001b[0m\n",
      "\u001b[0;31mTypeError\u001b[0m: prt6() missing 1 required positional argument: 'self'"
     ]
    }
   ],
   "source": [
    "A.prt5()"
   ]
  },
  {
   "cell_type": "code",
   "execution_count": 5,
   "metadata": {},
   "outputs": [
    {
     "name": "stdout",
     "output_type": "stream",
     "text": [
      "prt5:  thit is a test.\n"
     ]
    },
    {
     "ename": "TypeError",
     "evalue": "prt6() missing 1 required positional argument: 'self'",
     "output_type": "error",
     "traceback": [
      "\u001b[0;31m---------------------------------------------------------------------------\u001b[0m",
      "\u001b[0;31mTypeError\u001b[0m                                 Traceback (most recent call last)",
      "\u001b[0;32m<ipython-input-5-aa3e1e2979ea>\u001b[0m in \u001b[0;36m<module>\u001b[0;34m\u001b[0m\n\u001b[0;32m----> 1\u001b[0;31m \u001b[0ma\u001b[0m\u001b[0;34m.\u001b[0m\u001b[0mprt5\u001b[0m\u001b[0;34m(\u001b[0m\u001b[0;34m)\u001b[0m\u001b[0;34m\u001b[0m\u001b[0;34m\u001b[0m\u001b[0m\n\u001b[0m",
      "\u001b[0;32m<ipython-input-1-e05b74d19a47>\u001b[0m in \u001b[0;36mprt5\u001b[0;34m(self)\u001b[0m\n\u001b[1;32m     13\u001b[0m         \u001b[0mprint\u001b[0m\u001b[0;34m(\u001b[0m\u001b[0;34m\"prt5: \"\u001b[0m\u001b[0;34m,\u001b[0m \u001b[0mself\u001b[0m\u001b[0;34m.\u001b[0m\u001b[0mmember\u001b[0m\u001b[0;34m)\u001b[0m\u001b[0;34m\u001b[0m\u001b[0;34m\u001b[0m\u001b[0m\n\u001b[1;32m     14\u001b[0m         \u001b[0;31m# will be wrong\u001b[0m\u001b[0;34m\u001b[0m\u001b[0;34m\u001b[0m\u001b[0;34m\u001b[0m\u001b[0m\n\u001b[0;32m---> 15\u001b[0;31m         \u001b[0mself\u001b[0m\u001b[0;34m.\u001b[0m\u001b[0mprt6\u001b[0m\u001b[0;34m(\u001b[0m\u001b[0;34m)\u001b[0m\u001b[0;34m\u001b[0m\u001b[0;34m\u001b[0m\u001b[0m\n\u001b[0m\u001b[1;32m     16\u001b[0m \u001b[0;34m\u001b[0m\u001b[0m\n\u001b[1;32m     17\u001b[0m     \u001b[0;32mdef\u001b[0m \u001b[0mprt6\u001b[0m\u001b[0;34m(\u001b[0m\u001b[0mself\u001b[0m\u001b[0;34m)\u001b[0m\u001b[0;34m:\u001b[0m\u001b[0;34m\u001b[0m\u001b[0;34m\u001b[0m\u001b[0m\n",
      "\u001b[0;31mTypeError\u001b[0m: prt6() missing 1 required positional argument: 'self'"
     ]
    }
   ],
   "source": [
    "a.prt5()"
   ]
  },
  {
   "cell_type": "code",
   "execution_count": 6,
   "metadata": {},
   "outputs": [
    {
     "name": "stdout",
     "output_type": "stream",
     "text": [
      "prt5:  thit is a test.\n"
     ]
    },
    {
     "ename": "TypeError",
     "evalue": "prt6() missing 1 required positional argument: 'self'",
     "output_type": "error",
     "traceback": [
      "\u001b[0;31m---------------------------------------------------------------------------\u001b[0m",
      "\u001b[0;31mTypeError\u001b[0m                                 Traceback (most recent call last)",
      "\u001b[0;32m<ipython-input-6-0e463d53738e>\u001b[0m in \u001b[0;36m<module>\u001b[0;34m\u001b[0m\n\u001b[0;32m----> 1\u001b[0;31m \u001b[0ma\u001b[0m\u001b[0;34m.\u001b[0m\u001b[0mprt6\u001b[0m\u001b[0;34m(\u001b[0m\u001b[0;34m)\u001b[0m\u001b[0;34m\u001b[0m\u001b[0;34m\u001b[0m\u001b[0m\n\u001b[0m",
      "\u001b[0;32m<ipython-input-1-e05b74d19a47>\u001b[0m in \u001b[0;36mprt6\u001b[0;34m(self)\u001b[0m\n\u001b[1;32m     16\u001b[0m \u001b[0;34m\u001b[0m\u001b[0m\n\u001b[1;32m     17\u001b[0m     \u001b[0;32mdef\u001b[0m \u001b[0mprt6\u001b[0m\u001b[0;34m(\u001b[0m\u001b[0mself\u001b[0m\u001b[0;34m)\u001b[0m\u001b[0;34m:\u001b[0m\u001b[0;34m\u001b[0m\u001b[0;34m\u001b[0m\u001b[0m\n\u001b[0;32m---> 18\u001b[0;31m         \u001b[0mself\u001b[0m\u001b[0;34m.\u001b[0m\u001b[0mprt5\u001b[0m\u001b[0;34m(\u001b[0m\u001b[0;34m)\u001b[0m\u001b[0;34m\u001b[0m\u001b[0;34m\u001b[0m\u001b[0m\n\u001b[0m\u001b[1;32m     19\u001b[0m \u001b[0;34m\u001b[0m\u001b[0m\n\u001b[1;32m     20\u001b[0m     \u001b[0;34m@\u001b[0m\u001b[0mclassmethod\u001b[0m\u001b[0;34m\u001b[0m\u001b[0;34m\u001b[0m\u001b[0m\n",
      "\u001b[0;32m<ipython-input-1-e05b74d19a47>\u001b[0m in \u001b[0;36mprt5\u001b[0;34m(self)\u001b[0m\n\u001b[1;32m     13\u001b[0m         \u001b[0mprint\u001b[0m\u001b[0;34m(\u001b[0m\u001b[0;34m\"prt5: \"\u001b[0m\u001b[0;34m,\u001b[0m \u001b[0mself\u001b[0m\u001b[0;34m.\u001b[0m\u001b[0mmember\u001b[0m\u001b[0;34m)\u001b[0m\u001b[0;34m\u001b[0m\u001b[0;34m\u001b[0m\u001b[0m\n\u001b[1;32m     14\u001b[0m         \u001b[0;31m# will be wrong\u001b[0m\u001b[0;34m\u001b[0m\u001b[0;34m\u001b[0m\u001b[0;34m\u001b[0m\u001b[0m\n\u001b[0;32m---> 15\u001b[0;31m         \u001b[0mself\u001b[0m\u001b[0;34m.\u001b[0m\u001b[0mprt6\u001b[0m\u001b[0;34m(\u001b[0m\u001b[0;34m)\u001b[0m\u001b[0;34m\u001b[0m\u001b[0;34m\u001b[0m\u001b[0m\n\u001b[0m\u001b[1;32m     16\u001b[0m \u001b[0;34m\u001b[0m\u001b[0m\n\u001b[1;32m     17\u001b[0m     \u001b[0;32mdef\u001b[0m \u001b[0mprt6\u001b[0m\u001b[0;34m(\u001b[0m\u001b[0mself\u001b[0m\u001b[0;34m)\u001b[0m\u001b[0;34m:\u001b[0m\u001b[0;34m\u001b[0m\u001b[0;34m\u001b[0m\u001b[0m\n",
      "\u001b[0;31mTypeError\u001b[0m: prt6() missing 1 required positional argument: 'self'"
     ]
    }
   ],
   "source": [
    "a.prt6()"
   ]
  },
  {
   "cell_type": "code",
   "execution_count": 7,
   "metadata": {},
   "outputs": [
    {
     "name": "stdout",
     "output_type": "stream",
     "text": [
      "prt1:  thit is a test.\n",
      "prt2:  thit is a test.\n"
     ]
    }
   ],
   "source": [
    "a.prt1()"
   ]
  },
  {
   "cell_type": "code",
   "execution_count": 8,
   "metadata": {},
   "outputs": [
    {
     "name": "stdout",
     "output_type": "stream",
     "text": [
      "prt2:  thit is a test.\n"
     ]
    }
   ],
   "source": [
    "# 通过类的实例访问\n",
    "a.prt2()"
   ]
  },
  {
   "cell_type": "code",
   "execution_count": 9,
   "metadata": {},
   "outputs": [
    {
     "name": "stdout",
     "output_type": "stream",
     "text": [
      "通过类名 A 调用:\n",
      "prt1:  thit is a test.\n",
      "prt2:  thit is a test.\n",
      "\n",
      "通过实例调用:\n",
      "prt1:  thit is a test.\n",
      "prt2:  thit is a test.\n",
      "\n",
      "参数不一定必须用 cls，只要是 类 就可以:\n",
      "B is:  <class '__main__.A'>\n",
      "prt3:  thit is a test.\n",
      "B is:  <class '__main__.A'>\n",
      "prt3:  thit is a test.\n"
     ]
    }
   ],
   "source": [
    "# classmethod\n",
    "print(\"通过类名 A 调用:\")\n",
    "A.prt1()\n",
    "print(\"\\n通过实例调用:\")\n",
    "a.prt1()\n",
    "print(\"\\n参数不一定必须用 cls，只要是 类 就可以:\")\n",
    "a.prt3()\n",
    "A.prt3()"
   ]
  },
  {
   "cell_type": "code",
   "execution_count": 11,
   "metadata": {},
   "outputs": [
    {
     "name": "stdout",
     "output_type": "stream",
     "text": [
      "hello\n",
      "hello\n"
     ]
    }
   ],
   "source": [
    "# 静态类方法\n",
    "a.prt4('a')\n",
    "A.prt4('a')"
   ]
  },
  {
   "cell_type": "markdown",
   "metadata": {},
   "source": [
    "# 给函数参数添加元信息\n",
    "\n",
    "[7.3 给函数参数增加元信息 — python3-cookbook 3.0.0 文档](http://python3-cookbook.readthedocs.io/zh_CN/latest/c07/p03_attach_informatinal_matadata_to_function_arguments.html)\n",
    "\n",
    "- 为函数的参数增加一些额外的信息，这样的话其他使用者就能清楚的知道这个函数应该怎么使用。\n",
    "- python 解释器不会对这些注解添加任何的语义。它们不会被类型检查，运行时跟没有加注解之前的效果也没有任何差距。 然而，对于那些阅读源码的人来讲就很有帮助啦。第三方工具和框架可能会对这些注解添加语义。同时它们也会出现在文档中。\n",
    "- 尽管可以使用任意类型的对象给函数添加注解 (例如数字，字符串，对象实例等等)，通常来讲使用类或者字符串会比较好点。"
   ]
  },
  {
   "cell_type": "code",
   "execution_count": 231,
   "metadata": {},
   "outputs": [],
   "source": [
    "def test(a:int,b:int) -> int:\n",
    "    return a+b"
   ]
  },
  {
   "cell_type": "code",
   "execution_count": 233,
   "metadata": {},
   "outputs": [
    {
     "data": {
      "text/plain": [
       "5"
      ]
     },
     "execution_count": 233,
     "metadata": {},
     "output_type": "execute_result"
    }
   ],
   "source": [
    "test(2,3)"
   ]
  },
  {
   "cell_type": "code",
   "execution_count": 234,
   "metadata": {},
   "outputs": [
    {
     "name": "stdout",
     "output_type": "stream",
     "text": [
      "Help on function test in module __main__:\n",
      "\n",
      "test(a:int, b:int) -> int\n",
      "\n"
     ]
    }
   ],
   "source": [
    "help(test)"
   ]
  },
  {
   "cell_type": "code",
   "execution_count": 235,
   "metadata": {},
   "outputs": [
    {
     "data": {
      "text/plain": [
       "{'a': int, 'b': int, 'return': int}"
      ]
     },
     "execution_count": 235,
     "metadata": {},
     "output_type": "execute_result"
    }
   ],
   "source": [
    "test.__annotations__"
   ]
  },
  {
   "cell_type": "markdown",
   "metadata": {},
   "source": [
    "# 参数\n",
    "\n",
    "\n",
    "[Python 教程 - 廖雪峰的官方网站](https://www.liaoxuefeng.com/wiki/0014316089557264a6b348958f449949df42a6d3a2e542c000)\n",
    "\n",
    "- 位置参数：必选\n",
    "- 默认参数：变量默认值，一定要用不可变对象，如 None、True、False、数字或字符串，而不是 list\n",
    "- 可变参数：参数个数可以变化，一般是 tuple 或 list，一般是 `*args`（接收的是 tuple）\n",
    "- 命名关键字参数：必须传入参数名，可以有默认值\n",
    "- 关键字参数：可以传入任意多的含变量名的参数 ，一般是 `**kw`（接收的是 dict）\n",
    "- 参数定义的顺序：**必选参数、默认参数、可变参数、命名关键字参数、关键字参数**\n",
    "- 定义参数的语法\n",
    "  - `*args` 是可变参数， args 接收的是一个 tuple\n",
    "  - `**kw` 是关键字参数，kw 接收的是一个 dict\n",
    "- 调用时如何传入可变参数和关键字参数的语法\n",
    "  - 可变参数既可以直接传入：func(1,2,3) ，又可以先组装 list 或 tuple，再通过 `*args` 传入：`func(*(1,2,3))`\n",
    "  - 关键字参数既可以直接传入：func(a=1,b=2)，又可以先组装 dict，再通过 `**kw` 传入：`func(**{'a':1,'b':2})`\n",
    "- 定义命名关键字参数在没有可变参数的情况下要写分隔符 `*`，否则定义的是位置参数\n",
    "\n",
    "\n",
    "[7.1 可接受任意数量参数的函数 — python3-cookbook 3.0.0 文档](http://python3-cookbook.readthedocs.io/zh_CN/latest/c07/p01_functions_that_accept_any_number_arguments.html)\n",
    "\n",
    "- 为了能让一个函数接受任意数量的**位置参数**，可以使用一个 `*` 参数。\n",
    "- 为了接受任意数量的**关键字参数**，使用一个以 `**` 开头的参数。\n",
    "- 同时接受任意数量的**位置参数和关键字参数**，可以同时使用 `* 和 **`。\n",
    "- 一个 `*` 参数只能出现在函数定义中最后一个位置参数后面，而 `**` 参数只能出现在最后一个参数。 有一点要注意的是，在 `*` 参数后面仍然可以定义其他参数，也就是**强制关键字参数**。利用这种技术，能在接受任意多个位置参数的函数中指定关键字参数。\n",
    "- `partial()` 固定某些参数并返回一个新的 callable 对象，可以给某些参数预先赋值。"
   ]
  },
  {
   "cell_type": "markdown",
   "metadata": {},
   "source": [
    "## 一个例子"
   ]
  },
  {
   "cell_type": "code",
   "execution_count": 9,
   "metadata": {},
   "outputs": [],
   "source": [
    "# 位置（必选参数），默认参数，可变参数，命名关键字参数（调用时必须传入参数），关键字参数\n",
    "def f(a,b=0,*args,c,**kw):\n",
    "    print('a =', a, 'b =', b, 'args =', args, 'c=', c, 'kw =', kw)  "
   ]
  },
  {
   "cell_type": "code",
   "execution_count": 10,
   "metadata": {},
   "outputs": [
    {
     "name": "stdout",
     "output_type": "stream",
     "text": [
      "a = 1 b = 2 args = (3, 'z') c= 4 kw = {'x': 5, 'y': 'y'}\n"
     ]
    }
   ],
   "source": [
    "args = [3,'z']\n",
    "kw = {'x':5,'y':'y'}\n",
    "f(1,2,*args,c=4,**kw) #切记调用时需要加 `*`"
   ]
  },
  {
   "cell_type": "markdown",
   "metadata": {},
   "source": [
    "## 任意数量的位置参数"
   ]
  },
  {
   "cell_type": "code",
   "execution_count": 245,
   "metadata": {},
   "outputs": [
    {
     "data": {
      "text/plain": [
       "(1.5, 2.5)"
      ]
     },
     "execution_count": 245,
     "metadata": {},
     "output_type": "execute_result"
    }
   ],
   "source": [
    "# 任意数量的位置参数\n",
    "def avg(first, *rest):\n",
    "    return (first+sum(rest)) / (1+len(rest))\n",
    "avg(1, 2), avg(1,2,3,4)"
   ]
  },
  {
   "cell_type": "markdown",
   "metadata": {},
   "source": [
    "## 任意数量的关键字参数"
   ]
  },
  {
   "cell_type": "code",
   "execution_count": 256,
   "metadata": {},
   "outputs": [],
   "source": [
    "# 任意数量的关键字参数\n",
    "import html\n",
    "\n",
    "def make_element(name, value, **attrs):\n",
    "    keyvals = [' %s=\"%s\"' % item for item in attrs.items()]\n",
    "    attr_str = ''.join(keyvals)\n",
    "    element = '<{name}{attrs}>{value}</{name}>'.format(\n",
    "                name=name,\n",
    "                attrs=attr_str,\n",
    "                value=html.escape(value))\n",
    "    return element"
   ]
  },
  {
   "cell_type": "code",
   "execution_count": 257,
   "metadata": {},
   "outputs": [
    {
     "data": {
      "text/plain": [
       "'<item size=\"large\" quantity=\"6\">Albatross</item>'"
      ]
     },
     "execution_count": 257,
     "metadata": {},
     "output_type": "execute_result"
    }
   ],
   "source": [
    "make_element('item', 'Albatross', size='large', quantity=6)"
   ]
  },
  {
   "cell_type": "code",
   "execution_count": 258,
   "metadata": {},
   "outputs": [
    {
     "data": {
      "text/plain": [
       "'<p>&lt;spam&gt;</p>'"
      ]
     },
     "execution_count": 258,
     "metadata": {},
     "output_type": "execute_result"
    }
   ],
   "source": [
    "make_element('p', '<spam>')"
   ]
  },
  {
   "cell_type": "code",
   "execution_count": 259,
   "metadata": {},
   "outputs": [
    {
     "data": {
      "text/plain": [
       "'&lt;spam&gt;'"
      ]
     },
     "execution_count": 259,
     "metadata": {},
     "output_type": "execute_result"
    }
   ],
   "source": [
    "html.escape('<spam>')"
   ]
  },
  {
   "cell_type": "markdown",
   "metadata": {},
   "source": [
    "## 任意数量的位置参数和关键字参数"
   ]
  },
  {
   "cell_type": "code",
   "execution_count": 260,
   "metadata": {},
   "outputs": [],
   "source": [
    "# 任意数量的位置参数和关键字参数\n",
    "def anyargs(*args, **kwargs):\n",
    "    print(args) # A tuple\n",
    "    print(kwargs) # A dict"
   ]
  },
  {
   "cell_type": "code",
   "execution_count": 262,
   "metadata": {},
   "outputs": [
    {
     "name": "stdout",
     "output_type": "stream",
     "text": [
      "(1, 2, 3)\n",
      "{'k': 4}\n"
     ]
    }
   ],
   "source": [
    "anyargs(1,2,3,k=4)"
   ]
  },
  {
   "cell_type": "code",
   "execution_count": 269,
   "metadata": {},
   "outputs": [],
   "source": [
    "# 强制关键字参数，必须传入参数名\n",
    "def recv(maxsize, *, block):\n",
    "    pass"
   ]
  },
  {
   "cell_type": "code",
   "execution_count": 265,
   "metadata": {},
   "outputs": [
    {
     "ename": "TypeError",
     "evalue": "recv() takes 1 positional argument but 2 were given",
     "output_type": "error",
     "traceback": [
      "\u001b[0;31m---------------------------------------------------------------------------\u001b[0m",
      "\u001b[0;31mTypeError\u001b[0m                                 Traceback (most recent call last)",
      "\u001b[0;32m<ipython-input-265-7e28410a28bd>\u001b[0m in \u001b[0;36m<module>\u001b[0;34m()\u001b[0m\n\u001b[0;32m----> 1\u001b[0;31m \u001b[0mrecv\u001b[0m\u001b[0;34m(\u001b[0m\u001b[0;36m1024\u001b[0m\u001b[0;34m,\u001b[0m \u001b[0;32mTrue\u001b[0m\u001b[0;34m)\u001b[0m\u001b[0;34m\u001b[0m\u001b[0m\n\u001b[0m",
      "\u001b[0;31mTypeError\u001b[0m: recv() takes 1 positional argument but 2 were given"
     ]
    }
   ],
   "source": [
    "recv(1024, True)"
   ]
  },
  {
   "cell_type": "code",
   "execution_count": 268,
   "metadata": {},
   "outputs": [],
   "source": [
    "recv(1024, block=True)"
   ]
  },
  {
   "cell_type": "markdown",
   "metadata": {},
   "source": [
    "## 任意多位置参数中的关键字参数"
   ]
  },
  {
   "cell_type": "code",
   "execution_count": 270,
   "metadata": {},
   "outputs": [],
   "source": [
    "# 在接受任意多个位置参数的函数中指定关键字参数\n",
    "def mini(*values, clip=None):\n",
    "    m = min(values)\n",
    "    if clip is not None:\n",
    "        m = clip if clip > m else m\n",
    "    return m"
   ]
  },
  {
   "cell_type": "code",
   "execution_count": 271,
   "metadata": {},
   "outputs": [
    {
     "data": {
      "text/plain": [
       "-5"
      ]
     },
     "execution_count": 271,
     "metadata": {},
     "output_type": "execute_result"
    }
   ],
   "source": [
    "mini(1, 5, 2, -5, 10)"
   ]
  },
  {
   "cell_type": "code",
   "execution_count": 273,
   "metadata": {},
   "outputs": [
    {
     "data": {
      "text/plain": [
       "0"
      ]
     },
     "execution_count": 273,
     "metadata": {},
     "output_type": "execute_result"
    }
   ],
   "source": [
    "mini(1, 5, 2, -5, 10, clip=0)"
   ]
  },
  {
   "cell_type": "markdown",
   "metadata": {},
   "source": [
    "## partial"
   ]
  },
  {
   "cell_type": "code",
   "execution_count": 294,
   "metadata": {},
   "outputs": [],
   "source": [
    "# partial()\n",
    "points = [ (1, 2), (3, 4), (5, 6), (7, 8) ]\n",
    "\n",
    "import math\n",
    "def distance(p1, p2):\n",
    "    x1, y1 = p1\n",
    "    x2, y2 = p2\n",
    "    return math.hypot(x2 - x1, y2 - y1)"
   ]
  },
  {
   "cell_type": "code",
   "execution_count": 296,
   "metadata": {},
   "outputs": [
    {
     "data": {
      "text/plain": [
       "[(3, 4), (1, 2), (5, 6), (7, 8)]"
      ]
     },
     "execution_count": 296,
     "metadata": {},
     "output_type": "execute_result"
    }
   ],
   "source": [
    "pt = (4,3)\n",
    "from functools import partial\n",
    "points.sort(key=partial(distance, pt))\n",
    "points"
   ]
  },
  {
   "cell_type": "markdown",
   "metadata": {},
   "source": [
    "# 异步\n",
    "\n",
    "[Python Async/Await 入门指南 - 知乎](https://zhuanlan.zhihu.com/p/27258289)\n",
    "\n",
    "- 使用 async 修饰将普通函数和生成器包装成异步函数和异步生成器。"
   ]
  },
  {
   "cell_type": "markdown",
   "metadata": {},
   "source": [
    "## async + await"
   ]
  },
  {
   "cell_type": "code",
   "execution_count": 13,
   "metadata": {},
   "outputs": [],
   "source": [
    "def function():\n",
    "    return 1\n",
    "def generator():\n",
    "    yield 1"
   ]
  },
  {
   "cell_type": "code",
   "execution_count": 14,
   "metadata": {},
   "outputs": [],
   "source": [
    "async def async_function():\n",
    "    return 1\n",
    "async def async_generator():\n",
    "    yield 1"
   ]
  },
  {
   "cell_type": "code",
   "execution_count": 20,
   "metadata": {},
   "outputs": [],
   "source": [
    "res = async_function()"
   ]
  },
  {
   "cell_type": "code",
   "execution_count": 17,
   "metadata": {},
   "outputs": [],
   "source": [
    "import types"
   ]
  },
  {
   "cell_type": "code",
   "execution_count": 26,
   "metadata": {},
   "outputs": [
    {
     "name": "stdout",
     "output_type": "stream",
     "text": [
      "<class 'function'>\n",
      "<class 'generator'>\n",
      "<class 'coroutine'>\n",
      "<class 'async_generator'>\n"
     ]
    },
    {
     "name": "stderr",
     "output_type": "stream",
     "text": [
      "/usr/local/var/pyenv/versions/3.6.2/lib/python3.6/site-packages/ipykernel_launcher.py:3: RuntimeWarning: coroutine 'async_function' was never awaited\n",
      "  This is separate from the ipykernel package so we can avoid doing imports until\n"
     ]
    }
   ],
   "source": [
    "print(type(function))\n",
    "print(type(generator()))\n",
    "print(type(async_function()))\n",
    "print(type(async_generator()))"
   ]
  },
  {
   "cell_type": "code",
   "execution_count": 33,
   "metadata": {},
   "outputs": [
    {
     "ename": "StopIteration",
     "evalue": "1",
     "output_type": "error",
     "traceback": [
      "\u001b[0;31m---------------------------------------------------------------------------\u001b[0m",
      "\u001b[0;31mStopIteration\u001b[0m                             Traceback (most recent call last)",
      "\u001b[0;32m<ipython-input-33-92e77d307fee>\u001b[0m in \u001b[0;36m<module>\u001b[0;34m()\u001b[0m\n\u001b[1;32m      1\u001b[0m \u001b[0;31m# 协程需要通过其他方式来驱动，因此可以使用这个协程对象的 send 方法给协程发送一个值：\u001b[0m\u001b[0;34m\u001b[0m\u001b[0;34m\u001b[0m\u001b[0m\n\u001b[0;32m----> 2\u001b[0;31m \u001b[0mprint\u001b[0m\u001b[0;34m(\u001b[0m\u001b[0masync_function\u001b[0m\u001b[0;34m(\u001b[0m\u001b[0;34m)\u001b[0m\u001b[0;34m.\u001b[0m\u001b[0msend\u001b[0m\u001b[0;34m(\u001b[0m\u001b[0;32mNone\u001b[0m\u001b[0;34m)\u001b[0m\u001b[0;34m)\u001b[0m\u001b[0;34m\u001b[0m\u001b[0m\n\u001b[0m",
      "\u001b[0;31mStopIteration\u001b[0m: 1"
     ]
    }
   ],
   "source": [
    "# 协程需要通过其他方式来驱动，因此可以使用这个协程对象的 send 方法给协程发送一个值：\n",
    "print(async_function().send(None))"
   ]
  },
  {
   "cell_type": "code",
   "execution_count": 39,
   "metadata": {},
   "outputs": [
    {
     "name": "stdout",
     "output_type": "stream",
     "text": [
      "1\n"
     ]
    }
   ],
   "source": [
    "# 因为生成器 / 协程在正常返回退出时会抛出一个 StopIteration 异常，\n",
    "# 而原来的返回值会存放在 StopIteration 对象的 value 属性中，通过以下捕获可以获取协程真正的返回值：\n",
    "try:\n",
    "    async_function().send(None)\n",
    "except StopIteration as e:\n",
    "    print(e.value)"
   ]
  },
  {
   "cell_type": "code",
   "execution_count": 23,
   "metadata": {},
   "outputs": [],
   "source": [
    "# 通过上面的方式来新建一个 run 函数来驱动协程函数：\n",
    "\n",
    "def run(coroutine):\n",
    "    try:\n",
    "        coroutine.send(None)\n",
    "    except StopIteration as e:\n",
    "        return e.value"
   ]
  },
  {
   "cell_type": "code",
   "execution_count": 28,
   "metadata": {},
   "outputs": [],
   "source": [
    "# 在协程函数中，可以通过 await 语法来挂起自身的协程，并等待另一个协程完成直到返回结果：\n",
    "\n",
    "async def async_function():\n",
    "    import time\n",
    "    time.sleep(3)\n",
    "    return 1\n",
    "async def await_coroutine():\n",
    "    result = await async_function()\n",
    "    print(\"result\")"
   ]
  },
  {
   "cell_type": "code",
   "execution_count": 29,
   "metadata": {},
   "outputs": [
    {
     "name": "stdout",
     "output_type": "stream",
     "text": [
      "result\n"
     ]
    }
   ],
   "source": [
    "run(await_coroutine())"
   ]
  },
  {
   "cell_type": "code",
   "execution_count": 30,
   "metadata": {},
   "outputs": [
    {
     "name": "stdout",
     "output_type": "stream",
     "text": [
      "result\n"
     ]
    }
   ],
   "source": [
    "run(await_coroutine())"
   ]
  },
  {
   "cell_type": "markdown",
   "metadata": {},
   "source": [
    "要注意的是，\n",
    "\n",
    "- **await 语法只能出现在通过 async 修饰的函数中**，否则会报 SyntaxError 错误。\n",
    "- **await 后面的对象需要是一个 Awaitable，或者实现了相关的协议**。"
   ]
  },
  {
   "cell_type": "markdown",
   "metadata": {},
   "source": [
    "## 函数：买土豆例子"
   ]
  },
  {
   "cell_type": "code",
   "execution_count": 5,
   "metadata": {},
   "outputs": [],
   "source": [
    "import time\n",
    "import random\n",
    "import asyncio"
   ]
  },
  {
   "cell_type": "code",
   "execution_count": 50,
   "metadata": {},
   "outputs": [],
   "source": [
    "# 超市货架上的土豆\n",
    "class Potato:\n",
    "    @classmethod\n",
    "    def make(cls, num, *args, **kws):\n",
    "        potatos = []\n",
    "        for i in range(num):\n",
    "            potatos.append(cls.__new__(cls, *args, **kws))\n",
    "        return potatos\n",
    "all_potatos = Potato.make(5)"
   ]
  },
  {
   "cell_type": "code",
   "execution_count": 51,
   "metadata": {},
   "outputs": [],
   "source": [
    "# 取土豆\n",
    "def take_potatos(num):\n",
    "    count = 0\n",
    "    while True:\n",
    "        if len(all_potatos) == 0:\n",
    "            time.sleep(.1)\n",
    "        else:\n",
    "            potato = all_potatos.pop()\n",
    "            yield potato\n",
    "            count += 1\n",
    "            if count == num:\n",
    "                break"
   ]
  },
  {
   "cell_type": "code",
   "execution_count": 52,
   "metadata": {},
   "outputs": [],
   "source": [
    "# 买土豆\n",
    "def buy_potatos():\n",
    "    bucket = []\n",
    "    for p in take_potatos(50):\n",
    "        bucket.append(p)"
   ]
  },
  {
   "cell_type": "markdown",
   "metadata": {},
   "source": [
    "对应到代码中，就是迭代一个生成器的模型，显然，当货架上的土豆不够的时候，这时只能够死等，而且在上面例子中等多长时间都不会有结果（因为一切都是同步的），也许可以用多进程和多线程解决，而在现实生活中，更应该像是这样的："
   ]
  },
  {
   "cell_type": "code",
   "execution_count": 53,
   "metadata": {},
   "outputs": [],
   "source": [
    "async def take_potatos(num):\n",
    "    count = 0\n",
    "    while True:\n",
    "        if len(all_potatos) == 0:\n",
    "            await ask_for_potato()\n",
    "        print(all_potatos)\n",
    "        potato = all_potatos.pop()\n",
    "        yield potato\n",
    "        count += 1\n",
    "        if count == num:\n",
    "            break"
   ]
  },
  {
   "cell_type": "code",
   "execution_count": 62,
   "metadata": {},
   "outputs": [],
   "source": [
    "async def ask_for_potato():\n",
    "    # 等待一段时间上货\n",
    "    await asyncio.sleep(random.random())\n",
    "    all_potatos.extend(Potato.make(random.randint(1, 10)))"
   ]
  },
  {
   "cell_type": "code",
   "execution_count": 61,
   "metadata": {},
   "outputs": [
    {
     "data": {
      "text/plain": [
       "<coroutine object ask_for_potato at 0x1104cc938>"
      ]
     },
     "execution_count": 61,
     "metadata": {},
     "output_type": "execute_result"
    }
   ],
   "source": [
    "ask_for_potato()"
   ]
  },
  {
   "cell_type": "code",
   "execution_count": 55,
   "metadata": {},
   "outputs": [],
   "source": [
    "async def buy_potatos():\n",
    "    bucket = []\n",
    "    # async for 语法表示我们要后面迭代的是一个异步生成器。\n",
    "    async for p in take_potatos(6):\n",
    "        bucket.append(p)\n",
    "        print(f'Got potato {id(p)}...')\n",
    "    # [p async for p in take_potatos(6)] 等价"
   ]
  },
  {
   "cell_type": "code",
   "execution_count": 56,
   "metadata": {},
   "outputs": [],
   "source": [
    "def main(): \n",
    "    loop = asyncio.get_event_loop()\n",
    "    res = loop.run_until_complete(buy_potatos())\n",
    "    loop.close()"
   ]
  },
  {
   "cell_type": "code",
   "execution_count": 57,
   "metadata": {},
   "outputs": [
    {
     "data": {
      "text/plain": [
       "5"
      ]
     },
     "execution_count": 57,
     "metadata": {},
     "output_type": "execute_result"
    }
   ],
   "source": [
    "len(all_potatos)"
   ]
  },
  {
   "cell_type": "code",
   "execution_count": 58,
   "metadata": {},
   "outputs": [
    {
     "name": "stdout",
     "output_type": "stream",
     "text": [
      "[<__main__.Potato object at 0x110559be0>, <__main__.Potato object at 0x110559ef0>, <__main__.Potato object at 0x110559b00>, <__main__.Potato object at 0x110559080>, <__main__.Potato object at 0x110559780>]\n",
      "Got potato 4569012096...\n",
      "[<__main__.Potato object at 0x110559be0>, <__main__.Potato object at 0x110559ef0>, <__main__.Potato object at 0x110559b00>, <__main__.Potato object at 0x110559080>]\n",
      "Got potato 4569010304...\n",
      "[<__main__.Potato object at 0x110559be0>, <__main__.Potato object at 0x110559ef0>, <__main__.Potato object at 0x110559b00>]\n",
      "Got potato 4569012992...\n",
      "[<__main__.Potato object at 0x110559be0>, <__main__.Potato object at 0x110559ef0>]\n",
      "Got potato 4569014000...\n",
      "[<__main__.Potato object at 0x110559be0>]\n",
      "Got potato 4569013216...\n",
      "[<__main__.Potato object at 0x110559358>, <__main__.Potato object at 0x110551b70>, <__main__.Potato object at 0x110551908>]\n",
      "Got potato 4568979720...\n"
     ]
    }
   ],
   "source": [
    "main()"
   ]
  },
  {
   "cell_type": "code",
   "execution_count": 59,
   "metadata": {},
   "outputs": [
    {
     "data": {
      "text/plain": [
       "2"
      ]
     },
     "execution_count": 59,
     "metadata": {},
     "output_type": "execute_result"
    }
   ],
   "source": [
    "# 5 个取完后，ask for 来了 3 个，取了 1 个，还剩下 2 个\n",
    "len(all_potatos)"
   ]
  },
  {
   "cell_type": "markdown",
   "metadata": {},
   "source": [
    "既然是异步的，在请求之后不一定要死等，而是可以做其他事情。比如除了土豆，还想买番茄，这时只需要在事件循环中再添加一个过程：\n",
    "\n",
    "`loop.run_until_complete(asyncio.wait([buy_potatos(), buy_tomatos()]))`\n",
    "\n",
    "列表推导式：  \n",
    "\n",
    "- `bucket = [p async for p in take_potatos(6)]`\n",
    "- `[await fun() for fun in funcs if await condition()]`"
   ]
  },
  {
   "cell_type": "markdown",
   "metadata": {},
   "source": [
    "## 类实例普通方法、类方法"
   ]
  },
  {
   "cell_type": "code",
   "execution_count": 63,
   "metadata": {},
   "outputs": [],
   "source": [
    "# 类实例普通方法\n",
    "class TTO:\n",
    "    async def begin(self):\n",
    "        print(3)\n",
    "        await asyncio.sleep(1)\n",
    "        print(2)\n",
    "        await asyncio.sleep(1)\n",
    "        print(1)\n",
    "        await asyncio.sleep(1)\n",
    "        return"
   ]
  },
  {
   "cell_type": "code",
   "execution_count": 38,
   "metadata": {},
   "outputs": [],
   "source": [
    "async def game():\n",
    "    t = TTO()\n",
    "    await t.begin()\n",
    "    print('start')"
   ]
  },
  {
   "cell_type": "code",
   "execution_count": 40,
   "metadata": {},
   "outputs": [],
   "source": [
    "def main(): \n",
    "    loop = asyncio.get_event_loop()\n",
    "    res = loop.run_until_complete(game())"
   ]
  },
  {
   "cell_type": "code",
   "execution_count": 41,
   "metadata": {},
   "outputs": [
    {
     "name": "stdout",
     "output_type": "stream",
     "text": [
      "3\n",
      "2\n",
      "1\n",
      "start\n"
     ]
    }
   ],
   "source": [
    "main()"
   ]
  },
  {
   "cell_type": "code",
   "execution_count": 9,
   "metadata": {},
   "outputs": [
    {
     "name": "stderr",
     "output_type": "stream",
     "text": [
      "/usr/local/var/pyenv/versions/3.6.2/lib/python3.6/site-packages/ipykernel_launcher.py:8: RuntimeWarning: coroutine 'TTO.begin' was never awaited\n",
      "  \n"
     ]
    }
   ],
   "source": [
    "# 实例方法的调用同样是返回一个 coroutine：\n",
    "\n",
    "function = TTO.begin\n",
    "method = function.__get__(TTO, TTO())\n",
    "import inspect\n",
    "assert inspect.isfunction(function)\n",
    "assert inspect.ismethod(method)\n",
    "assert inspect.iscoroutine(method())"
   ]
  },
  {
   "cell_type": "code",
   "execution_count": 18,
   "metadata": {},
   "outputs": [],
   "source": [
    "# run 驱动协程\n",
    "def run(coroutine):\n",
    "    try:\n",
    "        coroutine.send(None)\n",
    "    except StopIteration as e:\n",
    "        return e.value"
   ]
  },
  {
   "cell_type": "code",
   "execution_count": 19,
   "metadata": {},
   "outputs": [
    {
     "name": "stdout",
     "output_type": "stream",
     "text": [
      "3\n"
     ]
    }
   ],
   "source": [
    "run(method())"
   ]
  },
  {
   "cell_type": "code",
   "execution_count": 7,
   "metadata": {},
   "outputs": [],
   "source": [
    "# 类方法\n",
    "class TTO2:\n",
    "    @classmethod\n",
    "    async def begin(cls):\n",
    "        print(3)\n",
    "        await asyncio.sleep(1)\n",
    "        print(2)\n",
    "        await asyncio.sleep(1)\n",
    "        print(1)\n",
    "        await asyncio.sleep(1)"
   ]
  },
  {
   "cell_type": "code",
   "execution_count": 2,
   "metadata": {},
   "outputs": [],
   "source": [
    "async def game():\n",
    "    await TTO2.begin()\n",
    "    print(\"start\")"
   ]
  },
  {
   "cell_type": "code",
   "execution_count": 3,
   "metadata": {},
   "outputs": [],
   "source": [
    "def main():\n",
    "    loop = asyncio.get_event_loop()\n",
    "    res = loop.run_until_complete(game())"
   ]
  },
  {
   "cell_type": "code",
   "execution_count": 6,
   "metadata": {},
   "outputs": [
    {
     "name": "stdout",
     "output_type": "stream",
     "text": [
      "3\n",
      "2\n",
      "1\n",
      "start\n"
     ]
    }
   ],
   "source": [
    "main()"
   ]
  },
  {
   "cell_type": "markdown",
   "metadata": {},
   "source": [
    "## 其他应用\n",
    "\n",
    "- async 也可以应用到上下文管理器中。在 3.7 版本，contextlib 中会新增一个 asynccontextmanager 装饰器来包装一个实现异步协议的上下文管理器。\n",
    "- async 修饰符也能用在 `__call__` 方法上"
   ]
  },
  {
   "cell_type": "code",
   "execution_count": 28,
   "metadata": {},
   "outputs": [],
   "source": [
    "class GameContext:\n",
    "    async def __aenter__(self):\n",
    "        self._started = time.time()\n",
    "        print('game loading...')\n",
    "        await asyncio.sleep(1)\n",
    "        return self\n",
    "\n",
    "    async def __aexit__(self, exc_type, exc, tb):\n",
    "        print('game exit...')\n",
    "        await asyncio.sleep(1)\n",
    "\n",
    "    async def __call__(self, *args, **kws):\n",
    "        if args[0] == 'time':\n",
    "            return time.time() - self._started\n",
    "        else:\n",
    "            return\n",
    "\n",
    "async def game():\n",
    "    async with GameContext() as ctx:\n",
    "        print('game start...')\n",
    "        await asyncio.sleep(2)\n",
    "        print('game time: ', await ctx('time'))"
   ]
  },
  {
   "cell_type": "code",
   "execution_count": 29,
   "metadata": {},
   "outputs": [],
   "source": [
    "def main():\n",
    "    loop = asyncio.get_event_loop()\n",
    "    res = loop.run_until_complete(game())"
   ]
  },
  {
   "cell_type": "code",
   "execution_count": 30,
   "metadata": {},
   "outputs": [
    {
     "name": "stdout",
     "output_type": "stream",
     "text": [
      "game loading...\n",
      "game start...\n",
      "game time:  3.0084259510040283\n",
      "game exit...\n"
     ]
    }
   ],
   "source": [
    "main()"
   ]
  },
  {
   "cell_type": "markdown",
   "metadata": {},
   "source": [
    "## await 和 yield from\n",
    "\n",
    "Python3.3 的 yield from 语法可以把生成器的操作委托给另一个生成器，生成器的调用方可以直接与子生成器进行通信。  \n",
    "\n",
    "在 3.5 之前，asyncio 正是使用 `@asyncio.coroutine` 和 `yield from` 语法来创建协程。  \n",
    "\n",
    "`@types.coroutine` 装饰器会将一个生成器函数包装为协程对象。"
   ]
  },
  {
   "cell_type": "code",
   "execution_count": 37,
   "metadata": {},
   "outputs": [
    {
     "name": "stdout",
     "output_type": "stream",
     "text": [
      "compute 1 + 2 ...\n",
      "1 + 2 = 3\n"
     ]
    }
   ],
   "source": [
    "import asyncio\n",
    "\n",
    "@asyncio.coroutine\n",
    "def compute(x, y):\n",
    "    print(\"compute %s + %s ...\" % (x, y))\n",
    "    yield from asyncio.sleep(1.0)\n",
    "    return x + y\n",
    "\n",
    "@asyncio.coroutine\n",
    "def print_sum(x, y):\n",
    "    result = yield from compute(x, y)\n",
    "    print(\"%s + %s = %s\" % (x, y, result))\n",
    "\n",
    "loop = asyncio.get_event_loop()\n",
    "loop.run_until_complete(print_sum(1, 2))"
   ]
  },
  {
   "cell_type": "code",
   "execution_count": 40,
   "metadata": {},
   "outputs": [
    {
     "name": "stdout",
     "output_type": "stream",
     "text": [
      "compute 1 + 2 ...\n",
      "1 + 2 = 3\n"
     ]
    }
   ],
   "source": [
    "# 等价写法\n",
    "async def compute2(x, y):\n",
    "    print(\"compute %s + %s ...\" % (x, y))\n",
    "    await asyncio.sleep(1.0)\n",
    "    return x + y\n",
    "async def print_sum2(x, y):\n",
    "    result = await compute2(x, y)\n",
    "    print(\"%s + %s = %s\" % (x, y, result))\n",
    "\n",
    "loop = asyncio.get_event_loop()\n",
    "loop.run_until_complete(print_sum2(1, 2))"
   ]
  },
  {
   "cell_type": "code",
   "execution_count": 39,
   "metadata": {},
   "outputs": [
    {
     "name": "stdout",
     "output_type": "stream",
     "text": [
      "Compute 1 + 2 ...\n",
      "1 + 2 = 3\n"
     ]
    }
   ],
   "source": [
    "import types\n",
    "\n",
    "@types.coroutine\n",
    "def compute3(x, y):\n",
    "    print(\"Compute %s + %s ...\" % (x, y))\n",
    "    yield from asyncio.sleep(1.0)\n",
    "    return x + y\n",
    "\n",
    "async def print_sum3(x, y):\n",
    "    result = await compute3(x, y)\n",
    "    print(\"%s + %s = %s\" % (x, y, result))\n",
    "\n",
    "loop = asyncio.get_event_loop()\n",
    "loop.run_until_complete(print_sum3(1, 2))"
   ]
  },
  {
   "cell_type": "code",
   "execution_count": 44,
   "metadata": {},
   "outputs": [
    {
     "name": "stdout",
     "output_type": "stream",
     "text": [
      "2\n",
      "1\n",
      "data\n"
     ]
    },
    {
     "data": {
      "text/plain": [
       "({<Task finished coro=<coro1() done, defined at <ipython-input-44-727cd24c92ed>:4> result=None>,\n",
       "  <Task finished coro=<coro2() done, defined at <ipython-input-44-727cd24c92ed>:8> result=None>},\n",
       " set())"
      ]
     },
     "execution_count": 44,
     "metadata": {},
     "output_type": "execute_result"
    }
   ],
   "source": [
    "# 另一个例子\n",
    "\n",
    "future = asyncio.Future()\n",
    "async def coro1():\n",
    "    await asyncio.sleep(1)\n",
    "    print(\"1\")\n",
    "    future.set_result('data')\n",
    "async def coro2():\n",
    "    print(\"2\")\n",
    "    print(await future)\n",
    "\n",
    "loop = asyncio.get_event_loop()\n",
    "loop.run_until_complete(asyncio.wait([\n",
    "    coro1(), \n",
    "    coro2()\n",
    "]))"
   ]
  },
  {
   "cell_type": "markdown",
   "metadata": {},
   "source": [
    "两个协程在在事件循环中，协程 coro1 在执行第一句后挂起自身切到 asyncio.sleep，而协程 coro2 一直等待 future 的结果，让出事件循环，计时器结束后 coro1 执行了第二句设置了 future 的值，被挂起的 coro2 恢复执行，打印出 future 的结果'data'。"
   ]
  },
  {
   "cell_type": "markdown",
   "metadata": {},
   "source": [
    "## 其他异步库\n",
    "\n",
    "asyncio 作为 python 的标准库，自然受到很多青睐，但它有时候还是显得太重量了，尤其是提供了许多复杂的轮子和协议，不便于使用。\n",
    "\n",
    "asyncio 是使用 async/await 语法开发的协程库，而不是有 asyncio 才能用 async/await，除了 asyncio 之外，curio 和 trio 是更加轻量级的替代物，而且也更容易使用。"
   ]
  },
  {
   "cell_type": "code",
   "execution_count": 49,
   "metadata": {},
   "outputs": [],
   "source": [
    "from curio import run, spawn\n",
    "from curio.socket import *"
   ]
  },
  {
   "cell_type": "code",
   "execution_count": 62,
   "metadata": {},
   "outputs": [],
   "source": [
    "# 一个简陋的基于事件驱动的 echo 服务器：\n",
    "# Terminal 运行 nc localhost 25000 即可启动 echo 服务器\n",
    "\n",
    "from socket import socket, AF_INET, SOCK_STREAM, SOL_SOCKET, SO_REUSEADDR\n",
    "from selectors import DefaultSelector, EVENT_READ\n",
    "\n",
    "selector = DefaultSelector()\n",
    "pool = {}\n",
    "\n",
    "def request(client_socket, addr):\n",
    "    client_socket, addr = client_socket, addr\n",
    "    def handle_request(key, mask):\n",
    "        data = client_socket.recv(100000)\n",
    "        if not data:\n",
    "            client_socket.close()\n",
    "            selector.unregister(client_socket)\n",
    "            del pool[addr]\n",
    "        else:\n",
    "            client_socket.sendall(data)\n",
    "    return handle_request\n",
    "\n",
    "def recv_client(key, mask):\n",
    "    sock = key.fileobj\n",
    "    client_socket, addr = sock.accept()\n",
    "    req = request(client_socket, addr)\n",
    "    pool[addr] = req\n",
    "    selector.register(client_socket, EVENT_READ, req)\n",
    "\n",
    "def echo_server(address):\n",
    "    sock = socket(AF_INET, SOCK_STREAM)\n",
    "    sock.setsockopt(SOL_SOCKET, SO_REUSEADDR, 1)\n",
    "    sock.bind(address)\n",
    "    sock.listen(5)\n",
    "    selector.register(sock, EVENT_READ, recv_client)\n",
    "    try:\n",
    "        while True:\n",
    "            events = selector.select()\n",
    "            for key, mask in events:\n",
    "                callback = key.data\n",
    "                callback(key, mask)\n",
    "    except KeyboardInterrupt:\n",
    "        sock.close()\n",
    "\n",
    "if __name__ == '__main__':\n",
    "    echo_server(('', 25000))"
   ]
  },
  {
   "cell_type": "markdown",
   "metadata": {},
   "source": [
    "## 小结\n",
    "\n",
    "完成异步的代码不一定要用 async/await，使用了 async/await 的代码也不一定能做到异步，async/await 是协程的语法糖，使协程之间的调用变得更加清晰。  \n",
    "\n",
    "使用 async 修饰的函数调用时会返回一个协程对象，await 只能放在 async 修饰的函数里面使用。  \n",
    "\n",
    "await 后面必须要跟着一个协程对象或 Awaitable。await 的目的是等待协程控制流的返回，而实现暂停并挂起函数的操作是 yield。"
   ]
  },
  {
   "cell_type": "code",
   "execution_count": null,
   "metadata": {},
   "outputs": [],
   "source": []
  }
 ],
 "metadata": {
  "kernelspec": {
   "display_name": "Python 3",
   "language": "python",
   "name": "python3"
  },
  "language_info": {
   "codemirror_mode": {
    "name": "ipython",
    "version": 3
   },
   "file_extension": ".py",
   "mimetype": "text/x-python",
   "name": "python",
   "nbconvert_exporter": "python",
   "pygments_lexer": "ipython3",
   "version": "3.7.2"
  },
  "latex_envs": {
   "LaTeX_envs_menu_present": true,
   "autoclose": false,
   "autocomplete": true,
   "bibliofile": "biblio.bib",
   "cite_by": "apalike",
   "current_citInitial": 1,
   "eqLabelWithNumbers": true,
   "eqNumInitial": 1,
   "hotkeys": {
    "equation": "Ctrl-E",
    "itemize": "Ctrl-I"
   },
   "labels_anchors": false,
   "latex_user_defs": false,
   "report_style_numbering": false,
   "user_envs_cfg": false
  },
  "toc": {
   "base_numbering": 1,
   "nav_menu": {
    "height": "30px",
    "width": "252px"
   },
   "number_sections": true,
   "sideBar": true,
   "skip_h1_title": false,
   "title_cell": "Table of Contents",
   "title_sidebar": "Contents",
   "toc_cell": true,
   "toc_position": {},
   "toc_section_display": "block",
   "toc_window_display": true
  }
 },
 "nbformat": 4,
 "nbformat_minor": 2
}
