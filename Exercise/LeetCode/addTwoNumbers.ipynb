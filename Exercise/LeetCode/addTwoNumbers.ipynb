{
 "cells": [
  {
   "cell_type": "code",
   "execution_count": 5,
   "metadata": {},
   "outputs": [],
   "source": [
    "# My solution\n",
    "\n",
    "# Definition for singly-linked list.\n",
    "class ListNode:\n",
    "    def __init__(self, x):\n",
    "        self.val = x\n",
    "        self.next = None\n",
    "\n",
    "class Solution:\n",
    "    def addTwoNumbers(self, l1, l2):\n",
    "        \"\"\"\n",
    "        :type l1: ListNode\n",
    "        :type l2: ListNode\n",
    "        :rtype: ListNode\n",
    "        \"\"\"\n",
    "        def get_num(l):\n",
    "            llist = []\n",
    "            while l:\n",
    "                llist.append(l.val)\n",
    "                l = l.next\n",
    "            num = sum([n*10**i for (i,n) in enumerate(llist)])\n",
    "            return num\n",
    "        added = str(get_num(l1) + get_num(l2))\n",
    "        lsum = [added[i] for i in range(len(added))]\n",
    "        return [int(i) for i in lsum[::-1]]"
   ]
  },
  {
   "cell_type": "code",
   "execution_count": 17,
   "metadata": {},
   "outputs": [],
   "source": [
    "class Solution:\n",
    "    def addTwoNumbers(self, l1, l2):\n",
    "        # 递归\n",
    "        # 转 list 为 int 数字\n",
    "        def toint(node):\n",
    "            return node.val + 10 * toint(node.next) if node else 0\n",
    "        def tolist(n):\n",
    "            node = ListNode(n % 10)\n",
    "            if n > 9:\n",
    "                node.next = tolist(n / 10)\n",
    "            return node\n",
    "        return tolist(toint(l1) + toint(l2))"
   ]
  },
  {
   "cell_type": "code",
   "execution_count": 29,
   "metadata": {},
   "outputs": [],
   "source": [
    "class Solution:\n",
    "    def addTwoNumbers(self, l1, l2):\n",
    "        # Iterative tolist instead of recursive\n",
    "        def toint(node):\n",
    "            return node.val + 10 * toint(node.next) if node else 0\n",
    "        n = toint(l1) + toint(l2)\n",
    "        first = last = ListNode(n % 10)\n",
    "        while n > 9:\n",
    "            n /= 10\n",
    "            last.next = last = ListNode(n % 10)\n",
    "        return first"
   ]
  },
  {
   "cell_type": "code",
   "execution_count": 27,
   "metadata": {},
   "outputs": [],
   "source": [
    "# And a very different solution that could sum arbitrarily many addends, not just two\n",
    "class Solution:\n",
    "    def addTwoNumbers(self, l1, l2):\n",
    "        addends = l1, l2\n",
    "        dummy = end = ListNode(0)\n",
    "        carry = 0\n",
    "        while addends or carry:\n",
    "            carry += sum(a.val for a in addends)\n",
    "            addends = [a.next for a in addends if a.next]\n",
    "            end.next = end = ListNode(carry % 10)\n",
    "            carry /= 10\n",
    "        return dummy.next"
   ]
  },
  {
   "cell_type": "code",
   "execution_count": null,
   "metadata": {},
   "outputs": [],
   "source": []
  }
 ],
 "metadata": {
  "kernelspec": {
   "display_name": "Python 3",
   "language": "python",
   "name": "python3"
  },
  "language_info": {
   "codemirror_mode": {
    "name": "ipython",
    "version": 3
   },
   "file_extension": ".py",
   "mimetype": "text/x-python",
   "name": "python",
   "nbconvert_exporter": "python",
   "pygments_lexer": "ipython3",
   "version": "3.6.2"
  },
  "toc": {
   "colors": {
    "hover_highlight": "#DAA520",
    "running_highlight": "#FF0000",
    "selected_highlight": "#FFD700"
   },
   "moveMenuLeft": true,
   "nav_menu": {
    "height": "12px",
    "width": "252px"
   },
   "navigate_menu": true,
   "number_sections": true,
   "sideBar": true,
   "threshold": 4,
   "toc_cell": false,
   "toc_section_display": "block",
   "toc_window_display": false
  }
 },
 "nbformat": 4,
 "nbformat_minor": 2
}
